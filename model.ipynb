{
  "nbformat": 4,
  "nbformat_minor": 0,
  "metadata": {
    "colab": {
      "name": "CA5.ipynb",
      "provenance": [],
      "collapsed_sections": []
    },
    "kernelspec": {
      "name": "python394jvsc74a57bd039944124f9b5d60d862a3cf40ea9b11aa8e952b3995fe09a01f412de3b98a252",
      "display_name": "Python 3.9.4 64-bit"
    },
    "accelerator": "GPU"
  },
  "cells": [
    {
      "cell_type": "markdown",
      "metadata": {
        "id": "QMIiSBi76eQ-",
        "colab_type": "text"
      },
      "source": [
        "# Music Genre Classification - MLDL - A.Y. 2020/21 - Politecnico di Torino"
      ]
    },
    {
      "cell_type": "code",
      "metadata": {
        "id": "zK7f_oPD6VFg",
        "colab_type": "code",
        "colab": {}
      },
      "source": [
        "import torchvision\n",
        "import torch\n",
        "import matplotlib.pyplot as plt\n",
        "from torch.utils.data import Dataset, DataLoader, random_split\n",
        "from torchvision.datasets import ImageFolder\n",
        "from torch.utils.data.sampler import SubsetRandomSampler\n",
        "import torchvision.transforms as transforms\n",
        "import numpy as np\n",
        "from sklearn.model_selection import train_test_split\n",
        "import torch.nn as nn\n",
        "import torch.nn.functional as F\n",
        "import time\n",
        "from datetime import timedelta\n",
        "from datetime import datetime"
      ],
      "execution_count": 1,
      "outputs": []
    },
    {
      "cell_type": "markdown",
      "metadata": {
        "id": "Ffa7fp1W0uyr",
        "colab_type": "text"
      },
      "source": [
        "\n",
        "# 1. Preparing the Dataset, Utility Functions, and Pre-Processing\n",
        "\n",
        "---\n",
        "\n",
        "\n",
        "\n"
      ]
    },
    {
      "cell_type": "markdown",
      "metadata": {
        "id": "DMBlKfF04avn",
        "colab_type": "text"
      },
      "source": [
        "## 1.1. Loading the Dataset"
      ]
    },
    {
      "source": [
        "### For Colab"
      ],
      "cell_type": "markdown",
      "metadata": {}
    },
    {
      "cell_type": "code",
      "metadata": {
        "id": "Hme8jVCPO6Sf",
        "colab_type": "code",
        "colab": {
          "base_uri": "https://localhost:8080/",
          "height": 121
        },
        "outputId": "f0e551c8-83ce-41b6-a8b3-056a40ad6ae5"
      },
      "source": [
        "# from google.colab import drive\n",
        "# drive.mount('/content/drive/')"
      ],
      "execution_count": 4,
      "outputs": []
    },
    {
      "cell_type": "markdown",
      "metadata": {
        "id": "91K-uGLn5cfY",
        "colab_type": "text"
      },
      "source": [
        "## 1.2. Defining Transform Classes\n"
      ]
    },
    {
      "cell_type": "code",
      "metadata": {
        "id": "impKzl9xO6FE",
        "colab_type": "code",
        "colab": {}
      },
      "source": [
        "class CustomToTensor(object):\n",
        "    \"\"\"Convert PIL Images in sample to pytorch Tensors.\"\"\"\n",
        "    ## the input image must be grayscaled first\n",
        "    def __call__(self, image):\n",
        "        image = np.array(image, dtype=np.float32)\n",
        "        # numpy image: H x W\n",
        "        return torch.from_numpy(image)\n",
        "class CustomToTensorAndNormalized(object):\n",
        "    def __call__(self, image):\n",
        "        image = np.array(image, dtype=np.float32) / 255 # Normalized\n",
        "        return torch.from_numpy(image)"
      ],
      "execution_count": 5,
      "outputs": []
    },
    {
      "cell_type": "markdown",
      "metadata": {
        "id": "fwu4hejB6Q8k",
        "colab_type": "text"
      },
      "source": [
        "## 1.3. Train-Test Split"
      ]
    },
    {
      "cell_type": "code",
      "execution_count": null,
      "metadata": {},
      "outputs": [],
      "source": []
    },
    {
      "source": [
        "# 2. The Model"
      ],
      "cell_type": "markdown",
      "metadata": {}
    },
    {
      "cell_type": "code",
      "execution_count": null,
      "metadata": {},
      "outputs": [],
      "source": []
    },
    {
      "source": [
        "## 2.1. Defining the Model Class"
      ],
      "cell_type": "markdown",
      "metadata": {}
    },
    {
      "cell_type": "code",
      "execution_count": null,
      "metadata": {},
      "outputs": [],
      "source": []
    },
    {
      "source": [
        "2.2. Training and Evaluation"
      ],
      "cell_type": "markdown",
      "metadata": {}
    },
    {
      "cell_type": "code",
      "execution_count": null,
      "metadata": {},
      "outputs": [],
      "source": []
    }
  ]
}