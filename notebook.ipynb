{
  "nbformat": 4,
  "nbformat_minor": 0,
  "metadata": {
    "colab": {
      "name": "transfer_onesec.ipynb",
      "provenance": [],
      "collapsed_sections": [
        "y0-CXqJ1Z3bF",
        "SmtU9GQxyNoz"
      ],
      "machine_shape": "hm"
    },
    "kernelspec": {
      "display_name": "Python 3",
      "name": "python3"
    },
    "language_info": {
      "name": "python"
    },
    "accelerator": "GPU",
    "widgets": {
      "application/vnd.jupyter.widget-state+json": {
        "afda2a74103f4c988441664b01efc960": {
          "model_module": "@jupyter-widgets/controls",
          "model_name": "HBoxModel",
          "state": {
            "_view_name": "HBoxView",
            "_dom_classes": [],
            "_model_name": "HBoxModel",
            "_view_module": "@jupyter-widgets/controls",
            "_model_module_version": "1.5.0",
            "_view_count": null,
            "_view_module_version": "1.5.0",
            "box_style": "",
            "layout": "IPY_MODEL_dd3b26041d224856952f7bda880de754",
            "_model_module": "@jupyter-widgets/controls",
            "children": [
              "IPY_MODEL_3636e700e047464a804c8a39a69095a1",
              "IPY_MODEL_0ee69e911edd428badea8d82217cb57e"
            ]
          }
        },
        "dd3b26041d224856952f7bda880de754": {
          "model_module": "@jupyter-widgets/base",
          "model_name": "LayoutModel",
          "state": {
            "_view_name": "LayoutView",
            "grid_template_rows": null,
            "right": null,
            "justify_content": null,
            "_view_module": "@jupyter-widgets/base",
            "overflow": null,
            "_model_module_version": "1.2.0",
            "_view_count": null,
            "flex_flow": null,
            "width": null,
            "min_width": null,
            "border": null,
            "align_items": null,
            "bottom": null,
            "_model_module": "@jupyter-widgets/base",
            "top": null,
            "grid_column": null,
            "overflow_y": null,
            "overflow_x": null,
            "grid_auto_flow": null,
            "grid_area": null,
            "grid_template_columns": null,
            "flex": null,
            "_model_name": "LayoutModel",
            "justify_items": null,
            "grid_row": null,
            "max_height": null,
            "align_content": null,
            "visibility": null,
            "align_self": null,
            "height": null,
            "min_height": null,
            "padding": null,
            "grid_auto_rows": null,
            "grid_gap": null,
            "max_width": null,
            "order": null,
            "_view_module_version": "1.2.0",
            "grid_template_areas": null,
            "object_position": null,
            "object_fit": null,
            "grid_auto_columns": null,
            "margin": null,
            "display": null,
            "left": null
          }
        },
        "3636e700e047464a804c8a39a69095a1": {
          "model_module": "@jupyter-widgets/controls",
          "model_name": "FloatProgressModel",
          "state": {
            "_view_name": "ProgressView",
            "style": "IPY_MODEL_a29e9060aff7403dae1bb3c7113ac016",
            "_dom_classes": [],
            "description": "100%",
            "_model_name": "FloatProgressModel",
            "bar_style": "success",
            "max": 46830571,
            "_view_module": "@jupyter-widgets/controls",
            "_model_module_version": "1.5.0",
            "value": 46830571,
            "_view_count": null,
            "_view_module_version": "1.5.0",
            "orientation": "horizontal",
            "min": 0,
            "description_tooltip": null,
            "_model_module": "@jupyter-widgets/controls",
            "layout": "IPY_MODEL_877d52c0d4be4230ad744ac75528e28e"
          }
        },
        "0ee69e911edd428badea8d82217cb57e": {
          "model_module": "@jupyter-widgets/controls",
          "model_name": "HTMLModel",
          "state": {
            "_view_name": "HTMLView",
            "style": "IPY_MODEL_3d91f9d66cc04763aca74e89cd3785c4",
            "_dom_classes": [],
            "description": "",
            "_model_name": "HTMLModel",
            "placeholder": "​",
            "_view_module": "@jupyter-widgets/controls",
            "_model_module_version": "1.5.0",
            "value": " 44.7M/44.7M [01:35&lt;00:00, 492kB/s]",
            "_view_count": null,
            "_view_module_version": "1.5.0",
            "description_tooltip": null,
            "_model_module": "@jupyter-widgets/controls",
            "layout": "IPY_MODEL_feb650bf0b2c48db8c6a7d090fc3cd56"
          }
        },
        "a29e9060aff7403dae1bb3c7113ac016": {
          "model_module": "@jupyter-widgets/controls",
          "model_name": "ProgressStyleModel",
          "state": {
            "_view_name": "StyleView",
            "_model_name": "ProgressStyleModel",
            "description_width": "initial",
            "_view_module": "@jupyter-widgets/base",
            "_model_module_version": "1.5.0",
            "_view_count": null,
            "_view_module_version": "1.2.0",
            "bar_color": null,
            "_model_module": "@jupyter-widgets/controls"
          }
        },
        "877d52c0d4be4230ad744ac75528e28e": {
          "model_module": "@jupyter-widgets/base",
          "model_name": "LayoutModel",
          "state": {
            "_view_name": "LayoutView",
            "grid_template_rows": null,
            "right": null,
            "justify_content": null,
            "_view_module": "@jupyter-widgets/base",
            "overflow": null,
            "_model_module_version": "1.2.0",
            "_view_count": null,
            "flex_flow": null,
            "width": null,
            "min_width": null,
            "border": null,
            "align_items": null,
            "bottom": null,
            "_model_module": "@jupyter-widgets/base",
            "top": null,
            "grid_column": null,
            "overflow_y": null,
            "overflow_x": null,
            "grid_auto_flow": null,
            "grid_area": null,
            "grid_template_columns": null,
            "flex": null,
            "_model_name": "LayoutModel",
            "justify_items": null,
            "grid_row": null,
            "max_height": null,
            "align_content": null,
            "visibility": null,
            "align_self": null,
            "height": null,
            "min_height": null,
            "padding": null,
            "grid_auto_rows": null,
            "grid_gap": null,
            "max_width": null,
            "order": null,
            "_view_module_version": "1.2.0",
            "grid_template_areas": null,
            "object_position": null,
            "object_fit": null,
            "grid_auto_columns": null,
            "margin": null,
            "display": null,
            "left": null
          }
        },
        "3d91f9d66cc04763aca74e89cd3785c4": {
          "model_module": "@jupyter-widgets/controls",
          "model_name": "DescriptionStyleModel",
          "state": {
            "_view_name": "StyleView",
            "_model_name": "DescriptionStyleModel",
            "description_width": "",
            "_view_module": "@jupyter-widgets/base",
            "_model_module_version": "1.5.0",
            "_view_count": null,
            "_view_module_version": "1.2.0",
            "_model_module": "@jupyter-widgets/controls"
          }
        },
        "feb650bf0b2c48db8c6a7d090fc3cd56": {
          "model_module": "@jupyter-widgets/base",
          "model_name": "LayoutModel",
          "state": {
            "_view_name": "LayoutView",
            "grid_template_rows": null,
            "right": null,
            "justify_content": null,
            "_view_module": "@jupyter-widgets/base",
            "overflow": null,
            "_model_module_version": "1.2.0",
            "_view_count": null,
            "flex_flow": null,
            "width": null,
            "min_width": null,
            "border": null,
            "align_items": null,
            "bottom": null,
            "_model_module": "@jupyter-widgets/base",
            "top": null,
            "grid_column": null,
            "overflow_y": null,
            "overflow_x": null,
            "grid_auto_flow": null,
            "grid_area": null,
            "grid_template_columns": null,
            "flex": null,
            "_model_name": "LayoutModel",
            "justify_items": null,
            "grid_row": null,
            "max_height": null,
            "align_content": null,
            "visibility": null,
            "align_self": null,
            "height": null,
            "min_height": null,
            "padding": null,
            "grid_auto_rows": null,
            "grid_gap": null,
            "max_width": null,
            "order": null,
            "_view_module_version": "1.2.0",
            "grid_template_areas": null,
            "object_position": null,
            "object_fit": null,
            "grid_auto_columns": null,
            "margin": null,
            "display": null,
            "left": null
          }
        }
      }
    }
  },
  "cells": [
    {
      "cell_type": "markdown",
      "metadata": {
        "id": "Ym8X-WU2GgKM"
      },
      "source": [
        "# Neural Music Genre Classification - MLDL - A.Y. 2020/21 - Politecnico di Torino"
      ]
    },
    {
      "cell_type": "markdown",
      "metadata": {
        "id": "d1AQKnsoGark"
      },
      "source": [
        "# 1.Loading the dataset and pre-processing"
      ]
    },
    {
      "cell_type": "code",
      "metadata": {
        "colab": {
          "base_uri": "https://localhost:8080/"
        },
        "id": "EYGV3RRdd--D",
        "outputId": "6c0682e9-65bb-4f6f-f162-fffcbc006036"
      },
      "source": [
        "from google.colab import drive\n",
        "import torch\n",
        "drive.mount('/content/drive/')\n",
        " \n",
        "if (torch.cuda.is_available()):\n",
        "    DEVICE = 'cuda'\n",
        "else:\n",
        "    DEVICE = 'cpu'\n",
        " \n",
        "print(f'Device is set to {DEVICE}')"
      ],
      "execution_count": 1,
      "outputs": [
        {
          "output_type": "stream",
          "text": [
            "Mounted at /content/drive/\n",
            "Device is set to cuda\n"
          ],
          "name": "stdout"
        }
      ]
    },
    {
      "cell_type": "code",
      "metadata": {
        "colab": {
          "base_uri": "https://localhost:8080/"
        },
        "id": "8Ncz5LsgeZ1B",
        "outputId": "ce20dd1e-0f23-4baa-b8fc-a32ab85117d0"
      },
      "source": [
        "import os\n",
        "from sklearn.metrics import f1_score\n",
        "import torchvision\n",
        "from torchvision import models, datasets\n",
        "import math\n",
        "\n",
        "from torchvision.models.detection.backbone_utils import resnet_fpn_backbone\n",
        "import librosa.display\n",
        "try:\n",
        "    import torchaudio\n",
        "except:\n",
        "    ! pip install torchaudio\n",
        "    import torchaudio\n",
        "import librosa\n",
        "from torchaudio import datasets\n",
        "import torchaudio.functional as FA\n",
        "import torchaudio.transforms as TA\n",
        "from sklearn.metrics import confusion_matrix\n",
        "import itertools\n",
        "import gzip, pickle\n",
        "import copy\n",
        "import sys\n",
        "import time\n",
        "from datetime import datetime\n",
        "from sklearn.metrics import multilabel_confusion_matrix\n",
        "from tqdm import tqdm\n",
        "from torchvision.datasets import ImageFolder\n",
        "from torchvision.transforms import ToTensor\n",
        "import torch.optim as optim\n",
        "import torch.nn as nn\n",
        "import torch.nn.functional as F\n",
        "from torch.autograd import Variable\n",
        "import numpy as np\n",
        "import matplotlib.pyplot as plt\n",
        "from google.colab import files\n",
        "seed = 2045 # The singularity is near!\n",
        "def manual_seed(seed):\n",
        "    np.random.seed(seed)\n",
        "    torch.manual_seed(seed)\n",
        "    torch.cuda.manual_seed(seed)\n",
        "    from torch.backends import cudnn\n",
        "    cudnn.deterministic = True #type: ignore\n",
        "    cudnn.benchmark = False # type: ignore\n",
        "\n",
        "hparams = {'batch_size': 16}\n",
        "\n",
        "path = './drive/MyDrive/music_classification/Data'\n",
        "data_dir = path\n",
        "print(os.listdir(data_dir))\n",
        "classes = os.listdir(data_dir+'/images_original')\n",
        "print(classes)"
      ],
      "execution_count": 2,
      "outputs": [
        {
          "output_type": "stream",
          "text": [
            "Collecting torchaudio\n",
            "\u001b[?25l  Downloading https://files.pythonhosted.org/packages/a8/20/eab40caad8f4b97f5e91a5de8ba5ec29115e08fa4c9a808725490b7b4844/torchaudio-0.9.0-cp37-cp37m-manylinux1_x86_64.whl (1.9MB)\n",
            "\r\u001b[K     |▏                               | 10kB 25.0MB/s eta 0:00:01\r\u001b[K     |▍                               | 20kB 16.2MB/s eta 0:00:01\r\u001b[K     |▌                               | 30kB 10.1MB/s eta 0:00:01\r\u001b[K     |▊                               | 40kB 8.6MB/s eta 0:00:01\r\u001b[K     |▉                               | 51kB 5.0MB/s eta 0:00:01\r\u001b[K     |█                               | 61kB 5.6MB/s eta 0:00:01\r\u001b[K     |█▏                              | 71kB 6.0MB/s eta 0:00:01\r\u001b[K     |█▍                              | 81kB 6.1MB/s eta 0:00:01\r\u001b[K     |█▌                              | 92kB 4.6MB/s eta 0:00:01\r\u001b[K     |█▊                              | 102kB 5.1MB/s eta 0:00:01\r\u001b[K     |██                              | 112kB 5.1MB/s eta 0:00:01\r\u001b[K     |██                              | 122kB 5.1MB/s eta 0:00:01\r\u001b[K     |██▎                             | 133kB 5.1MB/s eta 0:00:01\r\u001b[K     |██▍                             | 143kB 5.1MB/s eta 0:00:01\r\u001b[K     |██▋                             | 153kB 5.1MB/s eta 0:00:01\r\u001b[K     |██▊                             | 163kB 5.1MB/s eta 0:00:01\r\u001b[K     |███                             | 174kB 5.1MB/s eta 0:00:01\r\u001b[K     |███                             | 184kB 5.1MB/s eta 0:00:01\r\u001b[K     |███▎                            | 194kB 5.1MB/s eta 0:00:01\r\u001b[K     |███▌                            | 204kB 5.1MB/s eta 0:00:01\r\u001b[K     |███▋                            | 215kB 5.1MB/s eta 0:00:01\r\u001b[K     |███▉                            | 225kB 5.1MB/s eta 0:00:01\r\u001b[K     |████                            | 235kB 5.1MB/s eta 0:00:01\r\u001b[K     |████▏                           | 245kB 5.1MB/s eta 0:00:01\r\u001b[K     |████▎                           | 256kB 5.1MB/s eta 0:00:01\r\u001b[K     |████▌                           | 266kB 5.1MB/s eta 0:00:01\r\u001b[K     |████▋                           | 276kB 5.1MB/s eta 0:00:01\r\u001b[K     |████▉                           | 286kB 5.1MB/s eta 0:00:01\r\u001b[K     |█████                           | 296kB 5.1MB/s eta 0:00:01\r\u001b[K     |█████▏                          | 307kB 5.1MB/s eta 0:00:01\r\u001b[K     |█████▍                          | 317kB 5.1MB/s eta 0:00:01\r\u001b[K     |█████▌                          | 327kB 5.1MB/s eta 0:00:01\r\u001b[K     |█████▊                          | 337kB 5.1MB/s eta 0:00:01\r\u001b[K     |█████▉                          | 348kB 5.1MB/s eta 0:00:01\r\u001b[K     |██████                          | 358kB 5.1MB/s eta 0:00:01\r\u001b[K     |██████▏                         | 368kB 5.1MB/s eta 0:00:01\r\u001b[K     |██████▍                         | 378kB 5.1MB/s eta 0:00:01\r\u001b[K     |██████▋                         | 389kB 5.1MB/s eta 0:00:01\r\u001b[K     |██████▊                         | 399kB 5.1MB/s eta 0:00:01\r\u001b[K     |███████                         | 409kB 5.1MB/s eta 0:00:01\r\u001b[K     |███████                         | 419kB 5.1MB/s eta 0:00:01\r\u001b[K     |███████▎                        | 430kB 5.1MB/s eta 0:00:01\r\u001b[K     |███████▍                        | 440kB 5.1MB/s eta 0:00:01\r\u001b[K     |███████▋                        | 450kB 5.1MB/s eta 0:00:01\r\u001b[K     |███████▊                        | 460kB 5.1MB/s eta 0:00:01\r\u001b[K     |████████                        | 471kB 5.1MB/s eta 0:00:01\r\u001b[K     |████████▏                       | 481kB 5.1MB/s eta 0:00:01\r\u001b[K     |████████▎                       | 491kB 5.1MB/s eta 0:00:01\r\u001b[K     |████████▌                       | 501kB 5.1MB/s eta 0:00:01\r\u001b[K     |████████▋                       | 512kB 5.1MB/s eta 0:00:01\r\u001b[K     |████████▉                       | 522kB 5.1MB/s eta 0:00:01\r\u001b[K     |█████████                       | 532kB 5.1MB/s eta 0:00:01\r\u001b[K     |█████████▏                      | 542kB 5.1MB/s eta 0:00:01\r\u001b[K     |█████████▎                      | 552kB 5.1MB/s eta 0:00:01\r\u001b[K     |█████████▌                      | 563kB 5.1MB/s eta 0:00:01\r\u001b[K     |█████████▊                      | 573kB 5.1MB/s eta 0:00:01\r\u001b[K     |█████████▉                      | 583kB 5.1MB/s eta 0:00:01\r\u001b[K     |██████████                      | 593kB 5.1MB/s eta 0:00:01\r\u001b[K     |██████████▏                     | 604kB 5.1MB/s eta 0:00:01\r\u001b[K     |██████████▍                     | 614kB 5.1MB/s eta 0:00:01\r\u001b[K     |██████████▌                     | 624kB 5.1MB/s eta 0:00:01\r\u001b[K     |██████████▊                     | 634kB 5.1MB/s eta 0:00:01\r\u001b[K     |██████████▉                     | 645kB 5.1MB/s eta 0:00:01\r\u001b[K     |███████████                     | 655kB 5.1MB/s eta 0:00:01\r\u001b[K     |███████████▏                    | 665kB 5.1MB/s eta 0:00:01\r\u001b[K     |███████████▍                    | 675kB 5.1MB/s eta 0:00:01\r\u001b[K     |███████████▋                    | 686kB 5.1MB/s eta 0:00:01\r\u001b[K     |███████████▊                    | 696kB 5.1MB/s eta 0:00:01\r\u001b[K     |████████████                    | 706kB 5.1MB/s eta 0:00:01\r\u001b[K     |████████████                    | 716kB 5.1MB/s eta 0:00:01\r\u001b[K     |████████████▎                   | 727kB 5.1MB/s eta 0:00:01\r\u001b[K     |████████████▍                   | 737kB 5.1MB/s eta 0:00:01\r\u001b[K     |████████████▋                   | 747kB 5.1MB/s eta 0:00:01\r\u001b[K     |████████████▊                   | 757kB 5.1MB/s eta 0:00:01\r\u001b[K     |█████████████                   | 768kB 5.1MB/s eta 0:00:01\r\u001b[K     |█████████████▏                  | 778kB 5.1MB/s eta 0:00:01\r\u001b[K     |█████████████▎                  | 788kB 5.1MB/s eta 0:00:01\r\u001b[K     |█████████████▌                  | 798kB 5.1MB/s eta 0:00:01\r\u001b[K     |█████████████▋                  | 808kB 5.1MB/s eta 0:00:01\r\u001b[K     |█████████████▉                  | 819kB 5.1MB/s eta 0:00:01\r\u001b[K     |██████████████                  | 829kB 5.1MB/s eta 0:00:01\r\u001b[K     |██████████████▏                 | 839kB 5.1MB/s eta 0:00:01\r\u001b[K     |██████████████▎                 | 849kB 5.1MB/s eta 0:00:01\r\u001b[K     |██████████████▌                 | 860kB 5.1MB/s eta 0:00:01\r\u001b[K     |██████████████▊                 | 870kB 5.1MB/s eta 0:00:01\r\u001b[K     |██████████████▉                 | 880kB 5.1MB/s eta 0:00:01\r\u001b[K     |███████████████                 | 890kB 5.1MB/s eta 0:00:01\r\u001b[K     |███████████████▏                | 901kB 5.1MB/s eta 0:00:01\r\u001b[K     |███████████████▍                | 911kB 5.1MB/s eta 0:00:01\r\u001b[K     |███████████████▌                | 921kB 5.1MB/s eta 0:00:01\r\u001b[K     |███████████████▊                | 931kB 5.1MB/s eta 0:00:01\r\u001b[K     |███████████████▉                | 942kB 5.1MB/s eta 0:00:01\r\u001b[K     |████████████████                | 952kB 5.1MB/s eta 0:00:01\r\u001b[K     |████████████████▎               | 962kB 5.1MB/s eta 0:00:01\r\u001b[K     |████████████████▍               | 972kB 5.1MB/s eta 0:00:01\r\u001b[K     |████████████████▋               | 983kB 5.1MB/s eta 0:00:01\r\u001b[K     |████████████████▊               | 993kB 5.1MB/s eta 0:00:01\r\u001b[K     |█████████████████               | 1.0MB 5.1MB/s eta 0:00:01\r\u001b[K     |█████████████████               | 1.0MB 5.1MB/s eta 0:00:01\r\u001b[K     |█████████████████▎              | 1.0MB 5.1MB/s eta 0:00:01\r\u001b[K     |█████████████████▍              | 1.0MB 5.1MB/s eta 0:00:01\r\u001b[K     |█████████████████▋              | 1.0MB 5.1MB/s eta 0:00:01\r\u001b[K     |█████████████████▉              | 1.1MB 5.1MB/s eta 0:00:01\r\u001b[K     |██████████████████              | 1.1MB 5.1MB/s eta 0:00:01\r\u001b[K     |██████████████████▏             | 1.1MB 5.1MB/s eta 0:00:01\r\u001b[K     |██████████████████▎             | 1.1MB 5.1MB/s eta 0:00:01\r\u001b[K     |██████████████████▌             | 1.1MB 5.1MB/s eta 0:00:01\r\u001b[K     |██████████████████▋             | 1.1MB 5.1MB/s eta 0:00:01\r\u001b[K     |██████████████████▉             | 1.1MB 5.1MB/s eta 0:00:01\r\u001b[K     |███████████████████             | 1.1MB 5.1MB/s eta 0:00:01\r\u001b[K     |███████████████████▏            | 1.1MB 5.1MB/s eta 0:00:01\r\u001b[K     |███████████████████▍            | 1.1MB 5.1MB/s eta 0:00:01\r\u001b[K     |███████████████████▌            | 1.2MB 5.1MB/s eta 0:00:01\r\u001b[K     |███████████████████▊            | 1.2MB 5.1MB/s eta 0:00:01\r\u001b[K     |███████████████████▉            | 1.2MB 5.1MB/s eta 0:00:01\r\u001b[K     |████████████████████            | 1.2MB 5.1MB/s eta 0:00:01\r\u001b[K     |████████████████████▏           | 1.2MB 5.1MB/s eta 0:00:01\r\u001b[K     |████████████████████▍           | 1.2MB 5.1MB/s eta 0:00:01\r\u001b[K     |████████████████████▌           | 1.2MB 5.1MB/s eta 0:00:01\r\u001b[K     |████████████████████▊           | 1.2MB 5.1MB/s eta 0:00:01\r\u001b[K     |█████████████████████           | 1.2MB 5.1MB/s eta 0:00:01\r\u001b[K     |█████████████████████           | 1.2MB 5.1MB/s eta 0:00:01\r\u001b[K     |█████████████████████▎          | 1.3MB 5.1MB/s eta 0:00:01\r\u001b[K     |█████████████████████▍          | 1.3MB 5.1MB/s eta 0:00:01\r\u001b[K     |█████████████████████▋          | 1.3MB 5.1MB/s eta 0:00:01\r\u001b[K     |█████████████████████▊          | 1.3MB 5.1MB/s eta 0:00:01\r\u001b[K     |██████████████████████          | 1.3MB 5.1MB/s eta 0:00:01\r\u001b[K     |██████████████████████          | 1.3MB 5.1MB/s eta 0:00:01\r\u001b[K     |██████████████████████▎         | 1.3MB 5.1MB/s eta 0:00:01\r\u001b[K     |██████████████████████▍         | 1.3MB 5.1MB/s eta 0:00:01\r\u001b[K     |██████████████████████▋         | 1.3MB 5.1MB/s eta 0:00:01\r\u001b[K     |██████████████████████▉         | 1.4MB 5.1MB/s eta 0:00:01\r\u001b[K     |███████████████████████         | 1.4MB 5.1MB/s eta 0:00:01\r\u001b[K     |███████████████████████▏        | 1.4MB 5.1MB/s eta 0:00:01\r\u001b[K     |███████████████████████▎        | 1.4MB 5.1MB/s eta 0:00:01\r\u001b[K     |███████████████████████▌        | 1.4MB 5.1MB/s eta 0:00:01\r\u001b[K     |███████████████████████▋        | 1.4MB 5.1MB/s eta 0:00:01\r\u001b[K     |███████████████████████▉        | 1.4MB 5.1MB/s eta 0:00:01\r\u001b[K     |████████████████████████        | 1.4MB 5.1MB/s eta 0:00:01\r\u001b[K     |████████████████████████▏       | 1.4MB 5.1MB/s eta 0:00:01\r\u001b[K     |████████████████████████▍       | 1.4MB 5.1MB/s eta 0:00:01\r\u001b[K     |████████████████████████▌       | 1.5MB 5.1MB/s eta 0:00:01\r\u001b[K     |████████████████████████▊       | 1.5MB 5.1MB/s eta 0:00:01\r\u001b[K     |████████████████████████▉       | 1.5MB 5.1MB/s eta 0:00:01\r\u001b[K     |█████████████████████████       | 1.5MB 5.1MB/s eta 0:00:01\r\u001b[K     |█████████████████████████▏      | 1.5MB 5.1MB/s eta 0:00:01\r\u001b[K     |█████████████████████████▍      | 1.5MB 5.1MB/s eta 0:00:01\r\u001b[K     |█████████████████████████▌      | 1.5MB 5.1MB/s eta 0:00:01\r\u001b[K     |█████████████████████████▊      | 1.5MB 5.1MB/s eta 0:00:01\r\u001b[K     |██████████████████████████      | 1.5MB 5.1MB/s eta 0:00:01\r\u001b[K     |██████████████████████████      | 1.5MB 5.1MB/s eta 0:00:01\r\u001b[K     |██████████████████████████▎     | 1.6MB 5.1MB/s eta 0:00:01\r\u001b[K     |██████████████████████████▍     | 1.6MB 5.1MB/s eta 0:00:01\r\u001b[K     |██████████████████████████▋     | 1.6MB 5.1MB/s eta 0:00:01\r\u001b[K     |██████████████████████████▊     | 1.6MB 5.1MB/s eta 0:00:01\r\u001b[K     |███████████████████████████     | 1.6MB 5.1MB/s eta 0:00:01\r\u001b[K     |███████████████████████████     | 1.6MB 5.1MB/s eta 0:00:01\r\u001b[K     |███████████████████████████▎    | 1.6MB 5.1MB/s eta 0:00:01\r\u001b[K     |███████████████████████████▌    | 1.6MB 5.1MB/s eta 0:00:01\r\u001b[K     |███████████████████████████▋    | 1.6MB 5.1MB/s eta 0:00:01\r\u001b[K     |███████████████████████████▉    | 1.6MB 5.1MB/s eta 0:00:01\r\u001b[K     |████████████████████████████    | 1.7MB 5.1MB/s eta 0:00:01\r\u001b[K     |████████████████████████████▏   | 1.7MB 5.1MB/s eta 0:00:01\r\u001b[K     |████████████████████████████▎   | 1.7MB 5.1MB/s eta 0:00:01\r\u001b[K     |████████████████████████████▌   | 1.7MB 5.1MB/s eta 0:00:01\r\u001b[K     |████████████████████████████▋   | 1.7MB 5.1MB/s eta 0:00:01\r\u001b[K     |████████████████████████████▉   | 1.7MB 5.1MB/s eta 0:00:01\r\u001b[K     |█████████████████████████████   | 1.7MB 5.1MB/s eta 0:00:01\r\u001b[K     |█████████████████████████████▏  | 1.7MB 5.1MB/s eta 0:00:01\r\u001b[K     |█████████████████████████████▍  | 1.7MB 5.1MB/s eta 0:00:01\r\u001b[K     |█████████████████████████████▌  | 1.8MB 5.1MB/s eta 0:00:01\r\u001b[K     |█████████████████████████████▊  | 1.8MB 5.1MB/s eta 0:00:01\r\u001b[K     |█████████████████████████████▉  | 1.8MB 5.1MB/s eta 0:00:01\r\u001b[K     |██████████████████████████████  | 1.8MB 5.1MB/s eta 0:00:01\r\u001b[K     |██████████████████████████████▏ | 1.8MB 5.1MB/s eta 0:00:01\r\u001b[K     |██████████████████████████████▍ | 1.8MB 5.1MB/s eta 0:00:01\r\u001b[K     |██████████████████████████████▋ | 1.8MB 5.1MB/s eta 0:00:01\r\u001b[K     |██████████████████████████████▊ | 1.8MB 5.1MB/s eta 0:00:01\r\u001b[K     |███████████████████████████████ | 1.8MB 5.1MB/s eta 0:00:01\r\u001b[K     |███████████████████████████████ | 1.8MB 5.1MB/s eta 0:00:01\r\u001b[K     |███████████████████████████████▎| 1.9MB 5.1MB/s eta 0:00:01\r\u001b[K     |███████████████████████████████▍| 1.9MB 5.1MB/s eta 0:00:01\r\u001b[K     |███████████████████████████████▋| 1.9MB 5.1MB/s eta 0:00:01\r\u001b[K     |███████████████████████████████▊| 1.9MB 5.1MB/s eta 0:00:01\r\u001b[K     |████████████████████████████████| 1.9MB 5.1MB/s eta 0:00:01\r\u001b[K     |████████████████████████████████| 1.9MB 5.1MB/s \n",
            "\u001b[?25hRequirement already satisfied: torch==1.9.0 in /usr/local/lib/python3.7/dist-packages (from torchaudio) (1.9.0+cu102)\n",
            "Requirement already satisfied: typing-extensions in /usr/local/lib/python3.7/dist-packages (from torch==1.9.0->torchaudio) (3.7.4.3)\n",
            "Installing collected packages: torchaudio\n",
            "Successfully installed torchaudio-0.9.0\n",
            "['features_30_sec.csv', 'features_3_sec.csv', 'images_original', 'genres_original', 'images_three_sec', 'images_one_sec', 'images_ten_sec', 'images_thirty_sec', 'Original_Songs', 'test_songs_three_sec', 'test_songs_thirty_sec', 'test_songs_ten_sec', 'test_songs_one_sec', 'Songs']\n",
            "['reggae', 'classical', 'rock', 'disco', 'jazz', 'metal', 'blues', 'pop', 'country', 'hiphop']\n"
          ],
          "name": "stdout"
        }
      ]
    },
    {
      "cell_type": "markdown",
      "metadata": {
        "id": "TzATa5ccyUrT"
      },
      "source": [
        "## MELs"
      ]
    },
    {
      "cell_type": "code",
      "metadata": {
        "id": "XbVMInFk4qOi"
      },
      "source": [
        "def sizing_waveform(waveform, min_len, chunks):\n",
        "  incr_step = int(min_len/chunks)\n",
        "  splitted = torch.split(waveform, incr_step, dim=1)\n",
        "  all_chunks = []\n",
        "\n",
        "  for i in range(chunks):\n",
        "    all_chunks.append(splitted[i])\n",
        "  \n",
        "  return all_chunks"
      ],
      "execution_count": 3,
      "outputs": []
    },
    {
      "cell_type": "code",
      "metadata": {
        "id": "9dvKeRpxkLBt"
      },
      "source": [
        "# counter = 0\n",
        "# maxLen = -1\n",
        "# minLen = 100000000000\n",
        "# for i in dataset_dl:\n",
        "#     waveform, sample_rate, label = i\n",
        "#     l = int(waveform.shape[1])\n",
        "#     if l<minLen:\n",
        "#         minLen = l\n",
        "#     if l>maxLen:\n",
        "#         maxLen = l\n",
        "#     counter += 1"
      ],
      "execution_count": 4,
      "outputs": []
    },
    {
      "cell_type": "markdown",
      "metadata": {
        "id": "3RWg0iS7x4sC"
      },
      "source": [
        "1000\n",
        "660000\n",
        "675808"
      ]
    },
    {
      "cell_type": "code",
      "metadata": {
        "id": "cFZRcXyBleng"
      },
      "source": [
        "# print(counter)\n",
        "# print(minLen)\n",
        "# print(maxLen)"
      ],
      "execution_count": 5,
      "outputs": []
    },
    {
      "cell_type": "code",
      "metadata": {
        "id": "cwwJZ9KI4sMh"
      },
      "source": [
        "# n_fft=256\n",
        "# sample_rate=22500\n",
        "# mel_spectogram = TA.MelSpectrogram(sample_rate = sample_rate, n_mels=192)\n",
        "# y, sr = librosa.load(librosa.util.example_audio_file()) # your file\n",
        "# S = librosa.feature.melspectrogram(waveforms[j].numpy()[0], n_mels=192, fmax=8000, hop_length=200)\n",
        "# librosa.display.specshow(librosa.power_to_db(S, ref=np.max), fmax=8000)\n",
        "# print(mel_spectogram)\n",
        "#plt.savefig('mel.png')"
      ],
      "execution_count": 6,
      "outputs": []
    },
    {
      "cell_type": "code",
      "metadata": {
        "id": "AN4a45jlGX5X"
      },
      "source": [
        "# dataset_dl = datasets.GTZAN('./drive/MyDrive/music_classification/GTZAN', download=False)\n",
        "# save_path = './drive/MyDrive/music_classification/Data/images_thirty_sec'\n",
        "# counter_dict = dict(zip(classes, [0]*len(classes)))\n",
        "# chunks = 1\n",
        "# MIN_LEN = 660000"
      ],
      "execution_count": 7,
      "outputs": []
    },
    {
      "cell_type": "code",
      "metadata": {
        "id": "ts8jOOsDSHkc"
      },
      "source": [
        "done = []"
      ],
      "execution_count": 8,
      "outputs": []
    },
    {
      "cell_type": "markdown",
      "metadata": {
        "id": "i2PgrbKV5oCf"
      },
      "source": [
        "2007, 201, 67"
      ]
    },
    {
      "cell_type": "code",
      "metadata": {
        "id": "Sbyz4sFryW5W"
      },
      "source": [
        "# for i in dataset_dl:\n",
        "#     waveform, sample_rate, label = i\n",
        "#     waveforms = sizing_waveform(waveform, MIN_LEN, chunks)\n",
        "#     if label in ['country']:\n",
        "#         if counter_dict[label] >= 62:\n",
        "#             for j in range(chunks):\n",
        "#                 S = librosa.feature.melspectrogram(waveforms[j].numpy()[0], n_mels=192, fmax=8000, hop_length=67)\n",
        "#                 librosa.display.specshow(librosa.power_to_db(S, ref=np.max))\n",
        "#                 #print(S)\n",
        "#                 #print(S.shape)\n",
        "#                 plt.savefig(save_path+f'/{label}/'+f'{label}'+format(counter_dict[label], '05d')+f'_'+format(j, '03d')+'.png')\n",
        "#                 #break\n",
        "#         counter_dict[label] += 1\n",
        "#         #break"
      ],
      "execution_count": 9,
      "outputs": []
    },
    {
      "cell_type": "code",
      "metadata": {
        "id": "9Sio0OGS4oqQ"
      },
      "source": [
        "def create_melSpectogram(waveforms, sample_rate):\n",
        "  melspecs= []\n",
        "\n",
        "  for wave in waveforms:\n",
        "    MS = mel_spectogram(wave)\n",
        "    melspecs.append(MS[0])\n",
        " \n",
        "  return melspecs\n"
      ],
      "execution_count": 10,
      "outputs": []
    },
    {
      "cell_type": "code",
      "metadata": {
        "id": "GGgn3F906RCV"
      },
      "source": [
        "def plot_spectrogram(spec, title=None, ylabel='freq_bin', aspect='auto', xmax=None):\n",
        "  fig, axs = plt.subplots(1, 1)\n",
        "  axs.set_title(title or 'Spectrogram (db)')\n",
        "  axs.set_ylabel(ylabel)\n",
        "  axs.set_xlabel('frame')\n",
        "  cmap = plt.get_cmap('inferno')\n",
        "  im = axs.imshow(librosa.power_to_db(spec), origin='lower', aspect=aspect, cmap=cmap)\n",
        "  if xmax:\n",
        "    axs.set_xlim((0, xmax))\n",
        "  fig.colorbar(im, ax=axs)\n",
        "  plt.show(block=False)\n",
        "  return im"
      ],
      "execution_count": 11,
      "outputs": []
    },
    {
      "cell_type": "code",
      "metadata": {
        "id": "HpN3paaMyYyr"
      },
      "source": [
        ""
      ],
      "execution_count": 11,
      "outputs": []
    },
    {
      "cell_type": "code",
      "metadata": {
        "id": "3j3MSt4Y7-91"
      },
      "source": [
        "class CustomCrop(object):\n",
        "    \"\"\"Custom Crop\"\"\"\n",
        "    def __call__(self, image):\n",
        "        return image[:,54:-42,54:-42]"
      ],
      "execution_count": 12,
      "outputs": []
    },
    {
      "cell_type": "code",
      "metadata": {
        "id": "Ibt-6Aw2FcOE"
      },
      "source": [
        "import torchvision.transforms as transforms\n",
        "trans_norm = transforms.Compose([transforms.ToTensor(),\n",
        "                            transforms.Normalize((0.0,0.0,0.0), (1,1,1)),\n",
        "                            #transforms.Resize(inp_shape)\n",
        "                            #transforms.CenterCrop(256)\n",
        "                            ])\n",
        "trans = transforms.Compose([transforms.ToTensor(),\n",
        "                            #CustomCrop()\n",
        "                            #transforms.Resize(inp_shape)\n",
        "                            #transforms.CenterCrop(256)\n",
        "                            ])"
      ],
      "execution_count": 13,
      "outputs": []
    },
    {
      "cell_type": "code",
      "metadata": {
        "id": "wLARcdJ4e__s"
      },
      "source": [
        "dataset = ImageFolder(data_dir+'/images_one_sec',transform=trans)"
      ],
      "execution_count": 16,
      "outputs": []
    },
    {
      "cell_type": "code",
      "metadata": {
        "id": "YHaY7xWY8tQ_"
      },
      "source": [
        "# img, label = dataset[0]\n",
        "# print(img.shape, label)\n",
        "# fig, ax = plt.subplots(figsize=(10,15))\n",
        "# img = torch.transpose(img,0,2)\n",
        "# ax.axis('off')\n",
        "# ax.imshow(torch.transpose(img,0,1))"
      ],
      "execution_count": 17,
      "outputs": []
    },
    {
      "cell_type": "code",
      "metadata": {
        "colab": {
          "base_uri": "https://localhost:8080/"
        },
        "id": "voF1RezOJv8D",
        "outputId": "b8b1468f-9fd3-4183-8d29-1c3a412a9fb4"
      },
      "source": [
        "print(len(dataset))"
      ],
      "execution_count": 18,
      "outputs": [
        {
          "output_type": "stream",
          "text": [
            "30000\n"
          ],
          "name": "stdout"
        }
      ]
    },
    {
      "cell_type": "markdown",
      "metadata": {
        "id": "zKi_8k65HGdK"
      },
      "source": [
        "# 2. Train-Test Split"
      ]
    },
    {
      "cell_type": "code",
      "metadata": {
        "colab": {
          "base_uri": "https://localhost:8080/"
        },
        "id": "daMra6wrHLDb",
        "outputId": "fa8f5a42-22f1-4c1b-c211-79495b67e180"
      },
      "source": [
        "train_size = int(np.ceil(len(dataset)*0.8))\n",
        "val_size = int(np.ceil(len(dataset)*0.1))\n",
        "test_size = len(dataset) - train_size - val_size\n",
        "print(train_size, val_size, test_size)\n",
        "manual_seed(2045)\n",
        "train_dataset, val_dataset, test_dataset = torch.utils.data.random_split(dataset, lengths = [train_size, val_size, test_size])\n",
        "# indices = np.random.permutation(len(dataset))\n",
        "# train_idx, val_idx, test_idx = indices[:train_size], indices[train_size:train_size+val_size], indices[train_size+val_size:]\n",
        "\n",
        "num_workers = 2\n",
        "pin_memory = True\n",
        "train_loader = torch.utils.data.DataLoader(train_dataset, shuffle=True, batch_size=hparams['batch_size'], num_workers=num_workers, pin_memory=pin_memory)\n",
        "val_loader = torch.utils.data.DataLoader(val_dataset, shuffle=True, batch_size=hparams['batch_size'], num_workers=num_workers, pin_memory=pin_memory)\n",
        "test_loader = torch.utils.data.DataLoader(test_dataset, shuffle=True, batch_size=hparams['batch_size'], num_workers=num_workers, pin_memory=pin_memory)"
      ],
      "execution_count": 19,
      "outputs": [
        {
          "output_type": "stream",
          "text": [
            "24000 3000 3000\n"
          ],
          "name": "stdout"
        }
      ]
    },
    {
      "cell_type": "markdown",
      "metadata": {
        "id": "pJ0gLTF2GWEg"
      },
      "source": [
        "# 3. Visualization"
      ]
    },
    {
      "cell_type": "code",
      "metadata": {
        "id": "yAfHxWnSF5Xe"
      },
      "source": [
        "def get_number_distribution(loader, classes):\n",
        "  total_category_count = {classes[i] : 0 for i in range(len(classes))}\n",
        "  for _, labels in loader:\n",
        "    for label in labels:\n",
        "        total_category_count[classes[label]] += 1\n",
        "  cat_count = []\n",
        "  for category in classes:\n",
        "    print('%s : %d' % (category, total_category_count[category]))\n",
        "    cat_count.append((category, total_category_count[category]))\n",
        "  cat_count.sort(key=lambda x:x[1])\n",
        "  cat_count.reverse()\n",
        "  return cat_count"
      ],
      "execution_count": 20,
      "outputs": []
    },
    {
      "cell_type": "code",
      "metadata": {
        "id": "Hfjnfva5GU9x"
      },
      "source": [
        "# print('Train Set Number Ditribution:')\n",
        "# train_cat_count = get_number_distribution(train_loader, classes)"
      ],
      "execution_count": 21,
      "outputs": []
    },
    {
      "cell_type": "code",
      "metadata": {
        "colab": {
          "base_uri": "https://localhost:8080/",
          "height": 248
        },
        "id": "ftN7-oe-NeGC",
        "outputId": "d27d8941-8f88-423e-9a5a-83de40c08e69"
      },
      "source": [
        "def imshow(img_array, labels, classes):\n",
        "    figure, axs = plt.subplots(2, 5) \n",
        "    for i in range(2):\n",
        "      for j in range(5):\n",
        "        imgTmp = torch.transpose(img_array[i*2 + j],0,2)\n",
        "        axs[i][j].imshow(torch.transpose(imgTmp, 0, 1))\n",
        "        axs[i][j].set_title(classes[labels[i*2 + j]])\n",
        "        axs[i][j].axis('off')\n",
        "    plt.subplots_adjust(left=0.125,\n",
        "                    bottom=0.1, \n",
        "                    right=1.5, \n",
        "                    top=0.9, \n",
        "                    wspace=0.2, \n",
        "                    hspace=0.35)\n",
        "    plt.show()\n",
        "\n",
        "data_iter = iter(train_loader)\n",
        "data_iter.next()\n",
        "images, labels = data_iter.next()\n",
        "distinct_labels = []\n",
        "distinct_images = []\n",
        "distinct_classes = []\n",
        "for i in range(len(labels)):\n",
        "  if classes[labels[i]] not in distinct_classes:\n",
        "    distinct_labels.append(labels[i])\n",
        "    distinct_images.append(images[i])\n",
        "    distinct_classes.append(classes[labels[i]])\n",
        "imshow(distinct_images[0:10], distinct_labels[0:10], classes)"
      ],
      "execution_count": 22,
      "outputs": [
        {
          "output_type": "display_data",
          "data": {
            "image/png": "[encoded data removed]",
            "text/plain": [
              "<Figure size 432x288 with 10 Axes>"
            ]
          },
          "metadata": {
            "tags": [],
            "needs_background": "light"
          }
        }
      ]
    },
    {
      "cell_type": "markdown",
      "metadata": {
        "id": "xbuEtUZzaDhw"
      },
      "source": [
        "# 4. Model"
      ]
    },
    {
      "cell_type": "code",
      "metadata": {
        "id": "jJwduFQD0hdy"
      },
      "source": [
        "# from torchvision.models.detection.backbone_utils import resnet_fpn_backbone\n",
        "# resnet_net = torchvision.models.resnet152(pretrained=True)\n",
        "# modules = list(resnet_net.children())[:-1]\n",
        "# backbone = nn.Sequential(*modules)\n",
        "# ct = 0\n",
        "# for child in backbone.children():\n",
        "#     ct += 1\n",
        "#     if ct < 7:\n",
        "#         for param in child.parameters():\n",
        "#             param.requires_grad = False\n",
        "# # backbone.out_channels = 512\n",
        "# #backbone = resnet_fpn_backbone('resnet18', pretrained=True, trainable_layers=5)"
      ],
      "execution_count": 23,
      "outputs": []
    },
    {
      "cell_type": "code",
      "metadata": {
        "id": "II_2TYNL0zaC"
      },
      "source": [
        "# #backbone = torch.nn.Sequential(*(list(backbone.children())[:-2]))\n",
        "\n",
        "# backbone.to(DEVICE)\n",
        "# summary(backbone, (hparams['c'], hparams['h'], hparams['w']), batch_size=hparams['batch_size'])"
      ],
      "execution_count": 24,
      "outputs": []
    },
    {
      "cell_type": "code",
      "metadata": {
        "id": "Ne8lF75NZwRH"
      },
      "source": [
        "class CRNN(nn.Module):\n",
        "    def __init__(self, class_num, c, h, w, k, filters, poolings, dropout_rate, gru_dropout=0.3, gru_units=32):\n",
        "        super(CRNN, self).__init__()\n",
        "        input_shape = (c, h, w)\n",
        "        #print(input_shape)\n",
        "        # CNN\n",
        "        self.backbone = torchvision.models.resnet18(pretrained=True)\n",
        "        modules = list(self.backbone.children())[:-1]\n",
        "        self.backbone = nn.Sequential(*modules)\n",
        "        ct = 0\n",
        "        for child in self.backbone.children():\n",
        "            ct += 1\n",
        "            if ct < 7:\n",
        "                for param in child.parameters():\n",
        "                    param.requires_grad = False\n",
        "        # self.bn0 = nn.BatchNorm2d(num_features=c)\n",
        "        # self.pad1 = nn.ZeroPad2d((int(k/2), int(k/2), int(k/2), int(k/2)))\n",
        "        # self.conv1 = nn.Conv2d(c, filters[0], kernel_size=k, stride=1)\n",
        "        # self.act1 = nn.ELU()\n",
        "        # self.bn1 = nn.BatchNorm2d(num_features=filters[0])\n",
        "        # self.maxPool1 = nn.MaxPool2d(kernel_size=poolings[0], stride=poolings[0])\n",
        "        # self.drouput1 = nn.Dropout2d(dropout_rate)\n",
        "\n",
        "        # self.pad2 = nn.ZeroPad2d((int(k/2), int(k/2), int(k/2), int(k/2)))\n",
        "        # self.conv2 = nn.Conv2d(filters[0], filters[1], kernel_size=k)\n",
        "        # self.act2 = nn.ELU()\n",
        "        # self.bn2 = nn.BatchNorm2d(num_features=filters[1])\n",
        "        # self.maxPool2 = nn.MaxPool2d(kernel_size=poolings[1], stride=poolings[1])\n",
        "        # self.drouput2 = nn.Dropout2d(dropout_rate)\n",
        "\n",
        "        # self.pad3 = nn.ZeroPad2d((int(k/2), int(k/2), int(k/2), int(k/2)))\n",
        "        # self.conv3 = nn.Conv2d(filters[1], filters[2], kernel_size=k)\n",
        "        # self.act3 = nn.ELU()\n",
        "        # self.bn3 = nn.BatchNorm2d(num_features=filters[2])\n",
        "        # self.maxPool3 = nn.MaxPool2d(kernel_size=poolings[2], stride=poolings[2])\n",
        "        # self.drouput3 = nn.Dropout2d(dropout_rate)\n",
        "\n",
        "        # self.pad4 = nn.ZeroPad2d((int(k/2), int(k/2), int(k/2), int(k/2)))\n",
        "        # self.conv4 = nn.Conv2d(filters[2], filters[3], kernel_size=k)\n",
        "        # self.act4 = nn.ELU()\n",
        "        # self.bn4 = nn.BatchNorm2d(num_features=filters[3])\n",
        "        # self.maxPool4 = nn.MaxPool2d(kernel_size=poolings[3],stride=poolings[3])\n",
        "        # self.drouput4 = nn.Dropout2d(dropout_rate)\n",
        "\n",
        "        # self.pad5 = nn.ZeroPad2d((int(k/2), int(k/2), int(k/2), int(k/2)))\n",
        "        # self.conv5 = nn.Conv2d(filters[3], filters[4], kernel_size=k)\n",
        "        # self.act5 = nn.ELU()\n",
        "        # self.bn5 = nn.BatchNorm2d(num_features=filters[4])\n",
        "        # self.maxPool5 = nn.MaxPool2d(kernel_size=poolings[4],stride=poolings[4])\n",
        "        # self.drouput5 = nn.Dropout2d(dropout_rate)\n",
        "        # Output is (m, chan, freq, time) -> Needs to be reshaped for feeding to GRU units\n",
        "        # We will handle the reshape in the forward method\n",
        "\n",
        "        # RNN\n",
        "        self.gru = nn.GRU(input_size=512, hidden_size=32, batch_first=True, num_layers=3, dropout=gru_dropout)\n",
        "        #self.gru2 = nn.GRU(input_size=32, hidden_size=32, batch_first=True, dropout=gru_dropout)\n",
        "\n",
        "        # Dense and softmax\n",
        "        self.dense1 = nn.Linear(32, class_num)\n",
        "        self.softm = nn.Softmax(dim=-1)\n",
        "        \n",
        "    def forward(self, x):\n",
        "        # CNN forward\n",
        "        # x = self.bn0(x)\n",
        "        # x = self.pad1(x)\n",
        "        # x = self.conv1(x)\n",
        "        # x = self.act1(x)\n",
        "        # x = self.bn1(x)\n",
        "        # x = self.maxPool1(x)\n",
        "        # x = self.drouput1(x)\n",
        "\n",
        "        # x = self.pad2(x)\n",
        "        # x = self.conv2(x)\n",
        "        # x = self.act2(x)\n",
        "        # x = self.bn2(x)\n",
        "        # x = self.maxPool2(x)\n",
        "        # x = self.drouput2(x)\n",
        "\n",
        "        # x = self.pad3(x)\n",
        "        # x = self.conv3(x)\n",
        "        # x = self.act3(x)\n",
        "        # x = self.bn3(x)\n",
        "        # x = self.maxPool3(x)\n",
        "        # x = self.drouput3(x)\n",
        "\n",
        "        # x = self.pad4(x)\n",
        "        # x = self.conv4(x)\n",
        "        # x = self.act4(x)\n",
        "        # x = self.bn4(x)\n",
        "        # x = self.maxPool4(x)\n",
        "        # x = self.drouput4(x)\n",
        "\n",
        "        # x = self.pad5(x)\n",
        "        # x = self.conv5(x)\n",
        "        # x = self.act5(x)\n",
        "        # x = self.bn5(x)\n",
        "        # x = self.maxPool5(x)\n",
        "        # x = self.drouput5(x)\n",
        "        x = self.backbone(x)\n",
        "\n",
        "        # Reshape\n",
        "        x = x.permute(0,3,2,1)\n",
        "        x = torch.reshape(x, (int(x.shape[0]), int(x.shape[1]), int(x.shape[2]*x.shape[3])))\n",
        "        # RNN forward\n",
        "        x = self.gru(x)[1][0]\n",
        "        #x = self.gru2(x)[1][0]\n",
        "        # Dense and softmax forward\n",
        "        x = self.dense1(x)\n",
        "        x = self.softm(x)\n",
        "        return x"
      ],
      "execution_count": 26,
      "outputs": []
    },
    {
      "cell_type": "code",
      "metadata": {
        "id": "WJgVkLqQwygU"
      },
      "source": [
        "### Hyperparameters\n",
        "inp_shape = (288, 432)\n",
        "c=3                 # Channel\n",
        "h = inp_shape[0]    # Frequency\n",
        "w = inp_shape[1]    # Time\n",
        "k=3\n",
        "filters = [64, 128, 256, 512, 512]\n",
        "poolings = [(2, 2), (2, 2), (2, 2), (4, 1), (4, 1)]\n",
        "dropout_rate = 0.1      # 0.2\n",
        "gru_dropout_rate = 0.3\n",
        "batch_size = 16\n",
        "gru_units=32\n",
        "lr = 0.0001\n",
        "n_classes = 10\n",
        "patience = 10\n",
        "epochs = 1\n",
        "hparams = {'batch_size': batch_size, 'c': c, 'h':h, 'w':w, 'k':k, 'filters': filters,\\\n",
        "               'poolings': poolings, 'dropout_rate':dropout_rate,\\\n",
        "            'gru_units': gru_units, 'lr': lr, 'dropout_gru':gru_dropout_rate, 'epochs':epochs, 'patience':patience}"
      ],
      "execution_count": 27,
      "outputs": []
    },
    {
      "cell_type": "code",
      "metadata": {
        "colab": {
          "base_uri": "https://localhost:8080/",
          "height": 1000,
          "referenced_widgets": [
            "afda2a74103f4c988441664b01efc960",
            "dd3b26041d224856952f7bda880de754",
            "3636e700e047464a804c8a39a69095a1",
            "0ee69e911edd428badea8d82217cb57e",
            "a29e9060aff7403dae1bb3c7113ac016",
            "877d52c0d4be4230ad744ac75528e28e",
            "3d91f9d66cc04763aca74e89cd3785c4",
            "feb650bf0b2c48db8c6a7d090fc3cd56"
          ]
        },
        "id": "TD-W6R0YZ1lm",
        "outputId": "276b0e39-7da2-4a17-e2e4-e17e3f121a13"
      },
      "source": [
        "from torchsummary import summary\n",
        "model = CRNN(len(classes), hparams['c'], hparams['h'], hparams['w'], hparams['k'], hparams['filters'],\\\n",
        "                      hparams['poolings'], hparams['dropout_rate'], gru_units=hparams['gru_units'], gru_dropout = hparams['dropout_gru'])\n",
        "model.to(DEVICE)\n",
        "summary(model, (hparams['c'], hparams['h'], hparams['w']), batch_size=hparams['batch_size'])"
      ],
      "execution_count": 28,
      "outputs": [
        {
          "output_type": "stream",
          "text": [
            "Downloading: \"https://download.pytorch.org/models/resnet18-f37072fd.pth\" to /root/.cache/torch/hub/checkpoints/resnet18-f37072fd.pth\n"
          ],
          "name": "stderr"
        },
        {
          "output_type": "display_data",
          "data": {
            "application/vnd.jupyter.widget-view+json": {
              "model_id": "afda2a74103f4c988441664b01efc960",
              "version_minor": 0,
              "version_major": 2
            },
            "text/plain": [
              "HBox(children=(FloatProgress(value=0.0, max=46830571.0), HTML(value='')))"
            ]
          },
          "metadata": {
            "tags": []
          }
        },
        {
          "output_type": "stream",
          "text": [
            "\n",
            "----------------------------------------------------------------\n",
            "        Layer (type)               Output Shape         Param #\n",
            "================================================================\n",
            "            Conv2d-1         [16, 64, 144, 216]           9,408\n",
            "       BatchNorm2d-2         [16, 64, 144, 216]             128\n",
            "              ReLU-3         [16, 64, 144, 216]               0\n",
            "         MaxPool2d-4          [16, 64, 72, 108]               0\n",
            "            Conv2d-5          [16, 64, 72, 108]          36,864\n",
            "       BatchNorm2d-6          [16, 64, 72, 108]             128\n",
            "              ReLU-7          [16, 64, 72, 108]               0\n",
            "            Conv2d-8          [16, 64, 72, 108]          36,864\n",
            "       BatchNorm2d-9          [16, 64, 72, 108]             128\n",
            "             ReLU-10          [16, 64, 72, 108]               0\n",
            "       BasicBlock-11          [16, 64, 72, 108]               0\n",
            "           Conv2d-12          [16, 64, 72, 108]          36,864\n",
            "      BatchNorm2d-13          [16, 64, 72, 108]             128\n",
            "             ReLU-14          [16, 64, 72, 108]               0\n",
            "           Conv2d-15          [16, 64, 72, 108]          36,864\n",
            "      BatchNorm2d-16          [16, 64, 72, 108]             128\n",
            "             ReLU-17          [16, 64, 72, 108]               0\n",
            "       BasicBlock-18          [16, 64, 72, 108]               0\n",
            "           Conv2d-19          [16, 128, 36, 54]          73,728\n",
            "      BatchNorm2d-20          [16, 128, 36, 54]             256\n",
            "             ReLU-21          [16, 128, 36, 54]               0\n",
            "           Conv2d-22          [16, 128, 36, 54]         147,456\n",
            "      BatchNorm2d-23          [16, 128, 36, 54]             256\n",
            "           Conv2d-24          [16, 128, 36, 54]           8,192\n",
            "      BatchNorm2d-25          [16, 128, 36, 54]             256\n",
            "             ReLU-26          [16, 128, 36, 54]               0\n",
            "       BasicBlock-27          [16, 128, 36, 54]               0\n",
            "           Conv2d-28          [16, 128, 36, 54]         147,456\n",
            "      BatchNorm2d-29          [16, 128, 36, 54]             256\n",
            "             ReLU-30          [16, 128, 36, 54]               0\n",
            "           Conv2d-31          [16, 128, 36, 54]         147,456\n",
            "      BatchNorm2d-32          [16, 128, 36, 54]             256\n",
            "             ReLU-33          [16, 128, 36, 54]               0\n",
            "       BasicBlock-34          [16, 128, 36, 54]               0\n",
            "           Conv2d-35          [16, 256, 18, 27]         294,912\n",
            "      BatchNorm2d-36          [16, 256, 18, 27]             512\n",
            "             ReLU-37          [16, 256, 18, 27]               0\n",
            "           Conv2d-38          [16, 256, 18, 27]         589,824\n",
            "      BatchNorm2d-39          [16, 256, 18, 27]             512\n",
            "           Conv2d-40          [16, 256, 18, 27]          32,768\n",
            "      BatchNorm2d-41          [16, 256, 18, 27]             512\n",
            "             ReLU-42          [16, 256, 18, 27]               0\n",
            "       BasicBlock-43          [16, 256, 18, 27]               0\n",
            "           Conv2d-44          [16, 256, 18, 27]         589,824\n",
            "      BatchNorm2d-45          [16, 256, 18, 27]             512\n",
            "             ReLU-46          [16, 256, 18, 27]               0\n",
            "           Conv2d-47          [16, 256, 18, 27]         589,824\n",
            "      BatchNorm2d-48          [16, 256, 18, 27]             512\n",
            "             ReLU-49          [16, 256, 18, 27]               0\n",
            "       BasicBlock-50          [16, 256, 18, 27]               0\n",
            "           Conv2d-51           [16, 512, 9, 14]       1,179,648\n",
            "      BatchNorm2d-52           [16, 512, 9, 14]           1,024\n",
            "             ReLU-53           [16, 512, 9, 14]               0\n",
            "           Conv2d-54           [16, 512, 9, 14]       2,359,296\n",
            "      BatchNorm2d-55           [16, 512, 9, 14]           1,024\n",
            "           Conv2d-56           [16, 512, 9, 14]         131,072\n",
            "      BatchNorm2d-57           [16, 512, 9, 14]           1,024\n",
            "             ReLU-58           [16, 512, 9, 14]               0\n",
            "       BasicBlock-59           [16, 512, 9, 14]               0\n",
            "           Conv2d-60           [16, 512, 9, 14]       2,359,296\n",
            "      BatchNorm2d-61           [16, 512, 9, 14]           1,024\n",
            "             ReLU-62           [16, 512, 9, 14]               0\n",
            "           Conv2d-63           [16, 512, 9, 14]       2,359,296\n",
            "      BatchNorm2d-64           [16, 512, 9, 14]           1,024\n",
            "             ReLU-65           [16, 512, 9, 14]               0\n",
            "       BasicBlock-66           [16, 512, 9, 14]               0\n",
            "AdaptiveAvgPool2d-67            [16, 512, 1, 1]               0\n",
            "              GRU-68  [[-1, 1, 32], [-1, 2, 32]]               0\n",
            "           Linear-69                   [16, 10]             330\n",
            "          Softmax-70                   [16, 10]               0\n",
            "================================================================\n",
            "Total params: 11,176,842\n",
            "Trainable params: 10,493,770\n",
            "Non-trainable params: 683,072\n",
            "----------------------------------------------------------------\n",
            "Input size (MB): 22.78\n",
            "Forward/backward pass size (MB): 2495.33\n",
            "Params size (MB): 42.64\n",
            "Estimated Total Size (MB): 2560.75\n",
            "----------------------------------------------------------------\n"
          ],
          "name": "stdout"
        },
        {
          "output_type": "stream",
          "text": [
            "/usr/local/lib/python3.7/dist-packages/torch/nn/functional.py:718: UserWarning: Named tensors and all their associated APIs are an experimental feature and subject to change. Please do not use them for anything important until they are released as stable. (Triggered internally at  /pytorch/c10/core/TensorImpl.h:1156.)\n",
            "  return torch.max_pool2d(input, kernel_size, stride, padding, dilation, ceil_mode)\n"
          ],
          "name": "stderr"
        }
      ]
    },
    {
      "cell_type": "markdown",
      "metadata": {
        "id": "eumiqH2O5Jtg"
      },
      "source": [
        "# 5. Training"
      ]
    },
    {
      "cell_type": "code",
      "metadata": {
        "id": "OIOVTwYgvT7M"
      },
      "source": [
        "class EarlyStopping():\n",
        "    \"\"\"\n",
        "    Early stopping to stop the training when the loss does not improve after\n",
        "    certain epochs.\n",
        "    \"\"\"\n",
        "    def __init__(self, patience=5, min_delta=0):\n",
        "        \"\"\"\n",
        "        :param patience: how many epochs to wait before stopping when loss is\n",
        "               not improving\n",
        "        :param min_delta: minimum difference between new loss and old loss for\n",
        "               new loss to be considered as an improvement\n",
        "        \"\"\"\n",
        "        self.patience = patience\n",
        "        self.min_delta = min_delta\n",
        "        self.counter = 0\n",
        "        self.best_loss = None\n",
        "        self.early_stop = False\n",
        "    def __call__(self, val_loss):\n",
        "        if self.best_loss == None:\n",
        "            self.best_loss = val_loss\n",
        "        elif self.best_loss - val_loss > self.min_delta:\n",
        "            self.best_loss = val_loss\n",
        "        elif self.best_loss - val_loss < self.min_delta:\n",
        "            self.counter += 1\n",
        "            #print(f\"INFO: Early stopping counter {self.counter} of {self.patience}\")\n",
        "            if self.counter >= self.patience:\n",
        "                print('Early stopping activated!')\n",
        "                self.early_stop = True"
      ],
      "execution_count": 29,
      "outputs": []
    },
    {
      "cell_type": "code",
      "metadata": {
        "id": "dmSIL7Xhrhh_"
      },
      "source": [
        "def fit(model, train_loader, train_len, optimizer, criterion):\n",
        "    model.train()\n",
        "    batch_size = train_loader.batch_size\n",
        "    n_batches = math.ceil(train_len/batch_size)\n",
        "    #print('Batch Size:', batch_size,'Number of Batches:', n_batches)\n",
        "    model.train()\n",
        "    train_running_loss = 0.0\n",
        "    train_running_correct = 0\n",
        "    counter = 0\n",
        "    total = 0\n",
        "    #prog_bar = tqdm(enumerate(train_loader), total=int(train_len/batch_size))\n",
        "    for i, data in enumerate(train_loader):\n",
        "        counter += 1\n",
        "        data, target = data[0].to(DEVICE), data[1].to(DEVICE)\n",
        "        total += target.size(0)\n",
        "        optimizer.zero_grad()\n",
        "        outputs = model(data)\n",
        "        loss = criterion(outputs, target)\n",
        "        train_running_loss += loss.item()\n",
        "        _, preds = torch.max(outputs.data, 1)\n",
        "        train_running_correct += (preds == target).sum().item()\n",
        "        loss.backward()\n",
        "        optimizer.step()\n",
        "        \n",
        "    train_loss = train_running_loss / counter\n",
        "    train_accuracy = 100. * train_running_correct / total\n",
        "    return train_loss, train_accuracy"
      ],
      "execution_count": 30,
      "outputs": []
    },
    {
      "cell_type": "code",
      "metadata": {
        "id": "5KDL-iwlpIG2"
      },
      "source": [
        "def validate(model, val_loader, val_len, criterion):\n",
        "    model.eval()\n",
        "    val_running_loss = 0.0\n",
        "    val_running_correct = 0\n",
        "    counter = 0\n",
        "    total = 0\n",
        "    batch_size = val_len\n",
        "    #prog_bar = tqdm(enumerate(val_loader), total=int(val_len/batch_size))\n",
        "    with torch.no_grad():\n",
        "        for i, data in enumerate(val_loader):\n",
        "            counter += 1\n",
        "            data, target = data[0].to(DEVICE), data[1].to(DEVICE)\n",
        "            total += target.size(0)\n",
        "            outputs = model(data)\n",
        "            loss = criterion(outputs, target)\n",
        "            \n",
        "            val_running_loss += loss.item()\n",
        "            _, preds = torch.max(outputs.data, 1)\n",
        "            val_running_correct += (preds == target).sum().item()\n",
        "        \n",
        "        val_loss = val_running_loss / counter\n",
        "        val_accuracy = 100. * val_running_correct / total\n",
        "        return val_loss, val_accuracy"
      ],
      "execution_count": 31,
      "outputs": []
    },
    {
      "cell_type": "code",
      "metadata": {
        "id": "HQTwcOXmoXh8"
      },
      "source": [
        "def train(hparams, train_loader, val_loader, train_len, val_len, **kwargs):\n",
        "    manual_seed(2045)\n",
        "    model = CRNN(len(classes), hparams['c'], hparams['h'], hparams['w'], hparams['k'], hparams['filters'],\\\n",
        "                    hparams['poolings'], hparams['dropout_rate'], gru_units=hparams['gru_units'])\n",
        "    model.to(DEVICE)\n",
        "    optimizer = optim.Adam(model.parameters(), lr=hparams['lr'])\n",
        "    try:\n",
        "        path = kwargs['path']\n",
        "        stream = gzip.open(path, \"rb\")\n",
        "        checkpoint = pickle.load(stream)\n",
        "        stream.close()\n",
        "        train_loss = checkpoint['train_loss']\n",
        "        train_accuracy = checkpoint['train_accuracy']\n",
        "        val_loss = checkpoint['val_loss']\n",
        "        val_accuracy = checkpoint['val_accuracy']\n",
        "        model.load_state_dict(checkpoint['model_state_dict'])\n",
        "        optimizer.load_state_dict(checkpoint['optimizer_state_dict'])\n",
        "        epoch_load = checkpoint['epoch']\n",
        "        print(f'Checkpoint found! Training will resume from epoch {epoch_load+1}')\n",
        "        print('Last epoch results: ')\n",
        "        print(f\"Train Loss: {train_loss[-1]:.4f}, Train Acc: {train_accuracy[-1]:.2f}\")\n",
        "        print(f'Val Loss: {val_loss[-1]:.4f}, Val Acc: {val_accuracy[-1]:.2f}')\n",
        "        if 'lr_scheduler' in kwargs.keys() and 'scheduler_state_dict' in checkpoint.keys():\n",
        "            if kwargs['lr_scheduler'] == True:\n",
        "                print('Learning rate sceduler is active.\\n')\n",
        "                scheduler = optim.lr_scheduler.StepLR(optimizer, step_size=20, gamma=0.1, last_epoch=-1, verbose=True)\n",
        "                scheduler.load_state_dict(checkpoint['scheduler_state_dict'])\n",
        "    except:\n",
        "        print('No checkpoints found! Training will start from the beginning.\\n')\n",
        "        train_loss, train_accuracy = [], []\n",
        "        val_loss, val_accuracy = [], []\n",
        "        epoch_load = 0\n",
        "        scheduler = None\n",
        "        es = False\n",
        "        if 'lr_scheduler' in kwargs.keys():\n",
        "            if kwargs['lr_scheduler'] == True:\n",
        "                print('Learning rate sceduler is active.\\n')\n",
        "                scheduler = optim.lr_scheduler.StepLR(optimizer, step_size=20, gamma=0.1, last_epoch=-1, verbose=True)\n",
        "\n",
        "    es = False\n",
        "    if 'early_stopping' in kwargs.keys():\n",
        "        print('Early stopping is active.')\n",
        "        print()\n",
        "        es = True\n",
        "        min_val_loss = np.inf\n",
        "        patience = 30\n",
        "        epochs_no_improve = 0\n",
        "        best_model = None\n",
        "\n",
        "    criterion = nn.CrossEntropyLoss()\n",
        "\n",
        "    start = time.time()\n",
        "    for epoch in range(hparams['epochs']-epoch_load):\n",
        "        print(f\"Epoch {epoch+epoch_load+1} of {hparams['epochs']}\")\n",
        "        train_epoch_loss, train_epoch_accuracy = fit(\n",
        "            model, train_loader, train_len, optimizer, criterion\n",
        "        )\n",
        "        val_epoch_loss, val_epoch_accuracy = validate(\n",
        "            model, val_loader, val_len, criterion\n",
        "        )\n",
        "        if scheduler:\n",
        "            scheduler.step()\n",
        "        train_loss.append(train_epoch_loss)\n",
        "        train_accuracy.append(train_epoch_accuracy)\n",
        "        val_loss.append(val_epoch_loss)\n",
        "        val_accuracy.append(val_epoch_accuracy)\n",
        "\n",
        "        if es:\n",
        "            if val_epoch_loss < min_val_loss:\n",
        "                #Saving the model\n",
        "                min_val_loss = val_epoch_loss\n",
        "                best_model = copy.deepcopy(model.state_dict())\n",
        "                #print('Min loss %0.2f' % min_loss)\n",
        "                epochs_no_improve = 0\n",
        "            else:\n",
        "                epochs_no_improve += 1\n",
        "            # Check early stopping condition\n",
        "            if epochs_no_improve == patience:\n",
        "                print(f'Early stopping after {epoch+epoch_load+1} epochs!')\n",
        "                model.load_state_dict(best_model)\n",
        "                break\n",
        "                \n",
        "        print(f\"Train Loss: {train_epoch_loss:.4f}, Train Acc: {train_epoch_accuracy:.2f}\")\n",
        "        print(f'Val Loss: {val_epoch_loss:.4f}, Val Acc: {val_epoch_accuracy:.2f}')\n",
        "        checkpoint_to_save = {'model_state_dict': model.state_dict(),                                                 \n",
        "                'optimizer_state_dict': optimizer.state_dict(),\n",
        "                'epoch': epoch+epoch_load,\n",
        "                'train_loss': train_loss,\n",
        "                'val_loss': val_loss,\n",
        "                'train_accuracy': train_accuracy,\n",
        "                'val_accuracy': val_accuracy\n",
        "                }\n",
        "        if scheduler:\n",
        "            checkpoint_to_save['scheduler_state_dict'] = scheduler.state_dict()\n",
        "        stream = gzip.open('/content/drive/MyDrive/music_classification/checkpoint_one_sec_resnet18.pt', \"wb\")\n",
        "        pickle.dump(checkpoint_to_save, stream)\n",
        "        stream.close()\n",
        "    end = time.time()\n",
        "\n",
        "    print(f\"Training time: {(end-start)/60:.3f} minutes\")\n",
        "    return model, train_loss, train_accuracy, val_loss, val_accuracy"
      ],
      "execution_count": 34,
      "outputs": []
    },
    {
      "cell_type": "code",
      "metadata": {
        "id": "9lPik6Q6RDB-"
      },
      "source": [
        "hparams['epochs'] = 1000\n",
        "hparams['lr'] = 0.0001"
      ],
      "execution_count": 35,
      "outputs": []
    },
    {
      "cell_type": "code",
      "metadata": {
        "id": "2M_JXktSssmz"
      },
      "source": [
        "path='/content/drive/MyDrive/music_classification/checkpoint_one_sec_resnet18.pt'"
      ],
      "execution_count": 36,
      "outputs": []
    },
    {
      "cell_type": "code",
      "metadata": {
        "colab": {
          "base_uri": "https://localhost:8080/"
        },
        "id": "AUyW93ABpE88",
        "outputId": "3073e7d2-c441-4626-9c54-18288953aa94"
      },
      "source": [
        "model, train_loss, train_accuracy, val_loss, val_accuracy = train(hparams, train_loader, val_loader, train_size, val_size,\\\n",
        "                                                                  lr_scheduler=False,\\\n",
        "                                                                  early_stopping=True,\\\n",
        "                                                                  path='/content/drive/MyDrive/music_classification/checkpoint_one_sec_resnet18.pt')\n"
      ],
      "execution_count": null,
      "outputs": [
        {
          "output_type": "stream",
          "text": [
            "No checkpoints found! Training will start from the beginning.\n",
            "\n",
            "Early stopping is active.\n",
            "\n",
            "Epoch 1 of 1000\n",
            "Train Loss: 1.9179, Train Acc: 65.17\n",
            "Val Loss: 1.7567, Val Acc: 76.63\n",
            "Epoch 2 of 1000\n",
            "Train Loss: 1.7100, Train Acc: 79.83\n",
            "Val Loss: 1.6542, Val Acc: 83.53\n",
            "Epoch 3 of 1000\n",
            "Train Loss: 1.6377, Train Acc: 85.03\n",
            "Val Loss: 1.6238, Val Acc: 85.07\n",
            "Epoch 4 of 1000\n",
            "Train Loss: 1.5889, Train Acc: 89.11\n",
            "Val Loss: 1.5959, Val Acc: 87.93\n",
            "Epoch 5 of 1000\n",
            "Train Loss: 1.5597, Train Acc: 91.55\n",
            "Val Loss: 1.5914, Val Acc: 88.00\n",
            "Epoch 6 of 1000\n",
            "Train Loss: 1.5402, Train Acc: 93.24\n",
            "Val Loss: 1.5803, Val Acc: 89.03\n",
            "Epoch 7 of 1000\n",
            "Train Loss: 1.5227, Train Acc: 94.76\n",
            "Val Loss: 1.5666, Val Acc: 90.03\n",
            "Epoch 8 of 1000\n",
            "Train Loss: 1.5122, Train Acc: 95.67\n",
            "Val Loss: 1.5586, Val Acc: 90.57\n",
            "Epoch 9 of 1000\n",
            "Train Loss: 1.5055, Train Acc: 96.26\n",
            "Val Loss: 1.5512, Val Acc: 91.63\n",
            "Epoch 10 of 1000\n",
            "Train Loss: 1.4992, Train Acc: 96.73\n",
            "Val Loss: 1.5559, Val Acc: 91.23\n",
            "Epoch 11 of 1000\n",
            "Train Loss: 1.4929, Train Acc: 97.30\n",
            "Val Loss: 1.5580, Val Acc: 91.07\n",
            "Epoch 12 of 1000\n",
            "Train Loss: 1.4912, Train Acc: 97.46\n",
            "Val Loss: 1.5509, Val Acc: 91.50\n",
            "Epoch 13 of 1000\n",
            "Train Loss: 1.4879, Train Acc: 97.76\n",
            "Val Loss: 1.5435, Val Acc: 92.20\n",
            "Epoch 14 of 1000\n",
            "Train Loss: 1.4841, Train Acc: 98.05\n",
            "Val Loss: 1.5531, Val Acc: 91.23\n",
            "Epoch 15 of 1000\n",
            "Train Loss: 1.4827, Train Acc: 98.20\n",
            "Val Loss: 1.5460, Val Acc: 91.90\n",
            "Epoch 16 of 1000\n",
            "Train Loss: 1.4820, Train Acc: 98.20\n",
            "Val Loss: 1.5488, Val Acc: 91.63\n",
            "Epoch 17 of 1000\n",
            "Train Loss: 1.4800, Train Acc: 98.39\n",
            "Val Loss: 1.5631, Val Acc: 90.20\n",
            "Epoch 18 of 1000\n",
            "Train Loss: 1.4771, Train Acc: 98.66\n",
            "Val Loss: 1.5449, Val Acc: 91.87\n",
            "Epoch 19 of 1000\n",
            "Train Loss: 1.4775, Train Acc: 98.64\n",
            "Val Loss: 1.5488, Val Acc: 91.20\n",
            "Epoch 20 of 1000\n",
            "Train Loss: 1.4777, Train Acc: 98.58\n",
            "Val Loss: 1.5420, Val Acc: 92.07\n",
            "Epoch 21 of 1000\n",
            "Train Loss: 1.4767, Train Acc: 98.73\n",
            "Val Loss: 1.5417, Val Acc: 92.23\n",
            "Epoch 22 of 1000\n",
            "Train Loss: 1.4752, Train Acc: 98.82\n",
            "Val Loss: 1.5424, Val Acc: 92.47\n",
            "Epoch 23 of 1000\n",
            "Train Loss: 1.4761, Train Acc: 98.69\n",
            "Val Loss: 1.5539, Val Acc: 90.77\n",
            "Epoch 24 of 1000\n",
            "Train Loss: 1.4754, Train Acc: 98.79\n",
            "Val Loss: 1.5385, Val Acc: 92.50\n",
            "Epoch 25 of 1000\n",
            "Train Loss: 1.4737, Train Acc: 98.91\n",
            "Val Loss: 1.5360, Val Acc: 92.90\n",
            "Epoch 26 of 1000\n",
            "Train Loss: 1.4731, Train Acc: 98.95\n",
            "Val Loss: 1.5276, Val Acc: 93.60\n",
            "Epoch 27 of 1000\n",
            "Train Loss: 1.4730, Train Acc: 98.98\n",
            "Val Loss: 1.5591, Val Acc: 90.50\n",
            "Epoch 28 of 1000\n",
            "Train Loss: 1.4716, Train Acc: 99.14\n",
            "Val Loss: 1.5400, Val Acc: 92.40\n",
            "Epoch 29 of 1000\n",
            "Train Loss: 1.4726, Train Acc: 99.02\n",
            "Val Loss: 1.5339, Val Acc: 92.97\n",
            "Epoch 30 of 1000\n",
            "Train Loss: 1.4710, Train Acc: 99.15\n",
            "Val Loss: 1.5450, Val Acc: 91.67\n",
            "Epoch 31 of 1000\n",
            "Train Loss: 1.4705, Train Acc: 99.24\n",
            "Val Loss: 1.5477, Val Acc: 91.50\n",
            "Epoch 32 of 1000\n",
            "Train Loss: 1.4708, Train Acc: 99.16\n",
            "Val Loss: 1.5311, Val Acc: 93.43\n",
            "Epoch 33 of 1000\n",
            "Train Loss: 1.4711, Train Acc: 99.13\n",
            "Val Loss: 1.5401, Val Acc: 92.37\n",
            "Epoch 34 of 1000\n",
            "Train Loss: 1.4692, Train Acc: 99.30\n",
            "Val Loss: 1.5332, Val Acc: 93.07\n",
            "Epoch 35 of 1000\n",
            "Train Loss: 1.4707, Train Acc: 99.21\n",
            "Val Loss: 1.5365, Val Acc: 92.57\n",
            "Epoch 36 of 1000\n",
            "Train Loss: 1.4698, Train Acc: 99.28\n",
            "Val Loss: 1.5311, Val Acc: 93.33\n",
            "Epoch 37 of 1000\n",
            "Train Loss: 1.4688, Train Acc: 99.34\n",
            "Val Loss: 1.5527, Val Acc: 91.27\n",
            "Epoch 38 of 1000\n",
            "Train Loss: 1.4688, Train Acc: 99.38\n",
            "Val Loss: 1.5303, Val Acc: 93.47\n",
            "Epoch 39 of 1000\n",
            "Train Loss: 1.4685, Train Acc: 99.37\n",
            "Val Loss: 1.5358, Val Acc: 92.60\n",
            "Epoch 40 of 1000\n"
          ],
          "name": "stdout"
        }
      ]
    },
    {
      "cell_type": "markdown",
      "metadata": {
        "id": "aKnweGi35LzL"
      },
      "source": [
        "# 6. Post-processing"
      ]
    },
    {
      "cell_type": "code",
      "metadata": {
        "id": "sjjRjlhHGYbv"
      },
      "source": [
        "manual_seed(2045)\n",
        "model = CRNN(len(classes), hparams['c'], hparams['h'], hparams['w'], hparams['k'], hparams['filters'],\\\n",
        "                hparams['poolings'], hparams['dropout_rate'], gru_units=hparams['gru_units'])\n",
        "model.to(DEVICE)\n",
        "stream = gzip.open(path, \"rb\")\n",
        "checkpoint = pickle.load(stream)\n",
        "stream.close()\n",
        "train_loss = checkpoint['train_loss']\n",
        "train_accuracy = checkpoint['train_accuracy']\n",
        "val_loss = checkpoint['val_loss']\n",
        "val_accuracy = checkpoint['val_accuracy']\n",
        "model.load_state_dict(checkpoint['model_state_dict'])\n",
        "epoch_load = checkpoint['epoch']\n",
        "print(f'Model loaded! Model has been trained for {epoch_load+1} epochs.')\n",
        "print('Last epoch results: ')\n",
        "print(f\"Train Loss: {train_loss[-1]:.4f}, Train Acc: {train_accuracy[-1]:.2f}\")\n",
        "print(f'Val Loss: {val_loss[-1]:.4f}, Val Acc: {val_accuracy[-1]:.2f}')"
      ],
      "execution_count": null,
      "outputs": []
    },
    {
      "cell_type": "code",
      "metadata": {
        "id": "CxWdrxGbe_u9"
      },
      "source": [
        "def plot_confusion_matrix(cm, target_names, title='Confusion matrix', cmap=None, normalize=True):\n",
        "    \"\"\"\n",
        "    given a sklearn confusion matrix (cm), make a nice plot\n",
        "\n",
        "    Arguments\n",
        "    ---------\n",
        "    cm:           confusion matrix from sklearn.metrics.confusion_matrix\n",
        "\n",
        "    target_names: given classification classes such as [0, 1, 2]\n",
        "                  the class names, for example: ['high', 'medium', 'low']\n",
        "\n",
        "    title:        the text to display at the top of the matrix\n",
        "\n",
        "    cmap:         the gradient of the values displayed from matplotlib.pyplot.cm\n",
        "                  see http://matplotlib.org/examples/color/colormaps_reference.html\n",
        "                  plt.get_cmap('jet') or plt.cm.Blues\n",
        "\n",
        "    normalize:    If False, plot the raw numbers\n",
        "                  If True, plot the proportions\n",
        "    \"\"\"\n",
        "\n",
        "    accuracy = np.trace(cm) / float(np.sum(cm))\n",
        "    misclass = 1 - accuracy\n",
        "    if normalize:\n",
        "        cm = cm.astype('float') / cm.sum(axis=1)[:, np.newaxis]\n",
        "    if cmap is None:\n",
        "        cmap = plt.get_cmap('Blues')\n",
        "\n",
        "    plt.figure(figsize=(8, 6))\n",
        "    plt.imshow(cm, interpolation='nearest', cmap=cmap)\n",
        "    plt.title(title)\n",
        "    plt.colorbar()\n",
        "\n",
        "    if target_names is not None:\n",
        "        tick_marks = np.arange(len(target_names))\n",
        "        plt.xticks(tick_marks, target_names, rotation=45)\n",
        "        plt.yticks(tick_marks, target_names)\n",
        "\n",
        "\n",
        "\n",
        "\n",
        "    thresh = cm.max() / 1.5 if normalize else cm.max() / 2\n",
        "    for i, j in itertools.product(range(cm.shape[0]), range(cm.shape[1])):\n",
        "        if normalize:\n",
        "            plt.text(j, i, \"{:0.2f}\".format(cm[i, j]),\n",
        "                     horizontalalignment=\"center\",\n",
        "                     color=\"white\" if cm[i, j] > thresh else \"black\")\n",
        "        else:\n",
        "            plt.text(j, i, \"{:,}\".format(cm[i, j]),\n",
        "                     horizontalalignment=\"center\",\n",
        "                     color=\"white\" if cm[i, j] > thresh else \"black\")\n",
        "\n",
        "\n",
        "    plt.tight_layout()\n",
        "    plt.ylabel('True label')\n",
        "    plt.xlabel('Predicted label\\naccuracy={:0.2f}; misclass={:0.2f}'.format(accuracy, misclass))\n",
        "    plt.show()"
      ],
      "execution_count": null,
      "outputs": []
    },
    {
      "cell_type": "code",
      "metadata": {
        "id": "wR18ZoPjFANR"
      },
      "source": [
        "def detailed_analysis(model, n_classes, class_names, train_loader, val_loader, test_loader, val_accuracy, train_accuracy, val_loss, train_loss):\n",
        "    model.eval()\n",
        "\n",
        "    ### Train\n",
        "    loader = train_loader\n",
        "    correct = 0.\n",
        "    total = 0.\n",
        "    class_corrects = [0.] * n_classes\n",
        "    class_totals = [0.] * n_classes\n",
        "    class_accs_train = [0.] * n_classes\n",
        "    y_true = []\n",
        "    y_pred = []\n",
        "    with torch.no_grad():\n",
        "      for images, labels in loader:\n",
        "        outputs = model(images.to(DEVICE))\n",
        "        _, predicted = torch.max(outputs.data, 1)\n",
        "        total += labels.size(0)\n",
        "        correct += (predicted.to('cpu') == labels).sum().item()\n",
        "        Bool = (predicted.to('cpu') == labels)\n",
        "        y_pred.extend(list(predicted.to('cpu').numpy()))\n",
        "        y_true.extend(list(labels.numpy()))\n",
        "        for i in range(len(images)):\n",
        "            class_totals[labels[i]] += 1\n",
        "            if Bool[i] == True:\n",
        "              class_corrects[labels[i]] += 1\n",
        "    for i in range(n_classes):\n",
        "      class_accs_train[i] = class_corrects[i]/class_totals[i]\n",
        "\n",
        "    cm_train = confusion_matrix(y_true, y_pred)\n",
        "    y_true_train = copy.deepcopy(y_true)\n",
        "    y_pred_train = copy.deepcopy(y_pred)\n",
        "    \n",
        "\n",
        "    ### Val\n",
        "    loader = val_loader\n",
        "    correct = 0.\n",
        "    total = 0.\n",
        "    class_corrects = [0.] * n_classes\n",
        "    class_totals = [0.] * n_classes\n",
        "    class_accs_val = [0.] * n_classes\n",
        "    y_true = []\n",
        "    y_pred = []\n",
        "    with torch.no_grad():\n",
        "      for images, labels in loader:\n",
        "        outputs = model(images.to(DEVICE))\n",
        "        _, predicted = torch.max(outputs.data, 1)\n",
        "        total += labels.size(0)\n",
        "        correct += (predicted.to('cpu') == labels).sum().item()\n",
        "        Bool = (predicted.to('cpu') == labels)\n",
        "        y_pred.extend(list(predicted.to('cpu').numpy()))\n",
        "        y_true.extend(list(labels.numpy()))\n",
        "        for i in range(len(images)):\n",
        "            class_totals[labels[i]] += 1\n",
        "            if Bool[i] == True:\n",
        "              class_corrects[labels[i]] += 1\n",
        "    for i in range(n_classes):\n",
        "      class_accs_val[i] = class_corrects[i]/class_totals[i]\n",
        "    cm_val = confusion_matrix(y_true, y_pred)\n",
        "    y_true_val = copy.deepcopy(y_true)\n",
        "    y_pred_val = copy.deepcopy(y_pred)\n",
        "\n",
        "    ### Test\n",
        "    loader = test_loader\n",
        "    correct = 0.\n",
        "    total = 0.\n",
        "    class_corrects = [0.] * n_classes\n",
        "    class_totals = [0.] * n_classes\n",
        "    class_accs_test = [0.] * n_classes\n",
        "    y_true = []\n",
        "    y_pred = []\n",
        "    with torch.no_grad():\n",
        "      for images, labels in loader:\n",
        "        outputs = model(images.to(DEVICE))\n",
        "        _, predicted = torch.max(outputs.data, 1)\n",
        "        total += labels.size(0)\n",
        "        correct += (predicted.to('cpu') == labels).sum().item()\n",
        "        Bool = (predicted.to('cpu') == labels)\n",
        "        y_pred.extend(list(predicted.to('cpu').numpy()))\n",
        "        y_true.extend(list(labels.numpy()))\n",
        "        for i in range(len(images)):\n",
        "            class_totals[labels[i]] += 1\n",
        "            if Bool[i] == True:\n",
        "              class_corrects[labels[i]] += 1\n",
        "    for i in range(n_classes):\n",
        "      class_accs_test[i] = class_corrects[i]/class_totals[i]\n",
        "    cm_test = confusion_matrix(y_true, y_pred)\n",
        "    y_true_test = copy.deepcopy(y_true)\n",
        "    y_pred_test = copy.deepcopy(y_pred)\n",
        "\n",
        "    fig, axs = plt.subplots(3, figsize=(30,20))\n",
        "    axs[0].plot(list(range(1,len(train_loss)+1)), train_loss, label='Train Loss')\n",
        "    axs[0].plot(list(range(1,len(train_loss)+1)), val_loss, label='Val Loss')\n",
        "    axs[0].set_title('Loss per Epoch')\n",
        "    axs[0].set_ylabel('Epoch')\n",
        "    axs[0].set_xlabel('Loss')\n",
        "    axs[0].legend()\n",
        "\n",
        "    axs[1].plot(list(range(1,len(train_accuracy)+1)), train_accuracy, label='Train Acc')\n",
        "    axs[1].plot(list(range(1,len(train_accuracy)+1)), val_accuracy, label='Val Acc')\n",
        "    axs[1].set_title('Acc per Epoch')\n",
        "    axs[1].set_ylabel('Epoch')\n",
        "    axs[1].set_xlabel('Acc')\n",
        "    axs[1].legend()\n",
        "\n",
        "    x = np.arange(len(class_names))\n",
        "    width = 0.3\n",
        "    trains = axs[2].bar(x - width, class_accs_train, width, label='Train')\n",
        "    vals = axs[2].bar(x, class_accs_val, width, label = 'Val')\n",
        "    tests = axs[2].bar(x + width, class_accs_test, width, label = 'Test')\n",
        "    axs[2].set_ylabel('Accuracy')\n",
        "    axs[2].set_title('Accuracy of Each Class')\n",
        "    axs[2].set_xticks(x)\n",
        "    axs[2].set_xticklabels(class_names)\n",
        "    axs[2].legend()\n",
        "    plt.show()\n",
        "\n",
        "    return cm_train, cm_val, cm_test, y_true_train, y_pred_train, y_true_val, y_pred_val, y_true_test, y_pred_test"
      ],
      "execution_count": null,
      "outputs": []
    },
    {
      "cell_type": "markdown",
      "metadata": {
        "id": "smJRUe7GDXLg"
      },
      "source": [
        "## Loss and Accuracy Plots"
      ]
    },
    {
      "cell_type": "code",
      "metadata": {
        "id": "K2mUSv9wcNCj"
      },
      "source": [
        "cm_train, cm_val, cm_test,\\\n",
        "y_true_train, y_pred_train, y_true_val,\\\n",
        "y_pred_val, y_true_test, y_pred_test = detailed_analysis(model, n_classes, classes,\\\n",
        "                                                                      train_loader, val_loader, test_loader,\\\n",
        "                                                                      val_accuracy, train_accuracy, val_loss, train_loss)"
      ],
      "execution_count": null,
      "outputs": []
    },
    {
      "cell_type": "markdown",
      "metadata": {
        "id": "O0lI1q_bDSdV"
      },
      "source": [
        "## Confusion Matrix"
      ]
    },
    {
      "cell_type": "code",
      "metadata": {
        "id": "XEm0WFZJhieg"
      },
      "source": [
        "plot_confusion_matrix(cm_train, classes, title='Confusion matrix for train set', normalize=False)\n",
        "print()\n",
        "plot_confusion_matrix(cm_val, classes, title='Confusion matrix for val set', normalize=False)\n",
        "print()\n",
        "plot_confusion_matrix(cm_test, classes, title='Confusion matrix for test set', normalize=False)"
      ],
      "execution_count": null,
      "outputs": []
    },
    {
      "cell_type": "markdown",
      "metadata": {
        "id": "C_9nPMkXDQEt"
      },
      "source": [
        "## F1-Score"
      ]
    },
    {
      "cell_type": "code",
      "metadata": {
        "id": "aEjyjPM_xi89"
      },
      "source": [
        "print('Train set F1 score: (Micro)')\n",
        "f1_score(y_true_train, y_pred_train, average='micro')"
      ],
      "execution_count": null,
      "outputs": []
    },
    {
      "cell_type": "code",
      "metadata": {
        "id": "r4_0RRlODvjd"
      },
      "source": [
        "print('Val set F1 score: (Micro)')\n",
        "f1_score(y_true_val, y_pred_val, average='micro')"
      ],
      "execution_count": null,
      "outputs": []
    },
    {
      "cell_type": "code",
      "metadata": {
        "id": "yB92b9cHFx1b"
      },
      "source": [
        "print('Test set F1 score: (Micro)')\n",
        "f1_score(y_true_test, y_pred_test, average='micro')"
      ],
      "execution_count": null,
      "outputs": []
    },
    {
      "cell_type": "markdown",
      "metadata": {
        "id": "h3Ul7uGNeQcc"
      },
      "source": [
        "# Appendix A. SVM Baseline"
      ]
    },
    {
      "cell_type": "code",
      "metadata": {
        "id": "rYBE4EGmdVKT"
      },
      "source": [
        "import pandas as pd\n",
        "features3 = pd.read_csv('./drive/My Drive/music_classification/Data/features_3_sec.csv')\n",
        "features30 = pd.read_csv('./drive/My Drive/music_classification/Data/features_30_sec.csv')"
      ],
      "execution_count": null,
      "outputs": []
    },
    {
      "cell_type": "code",
      "metadata": {
        "id": "-US6UumLf5iy"
      },
      "source": [
        "# features3.isnull().sum()"
      ],
      "execution_count": null,
      "outputs": []
    },
    {
      "cell_type": "code",
      "metadata": {
        "colab": {
          "base_uri": "https://localhost:8080/"
        },
        "id": "HIsKjbcohCEC",
        "outputId": "541e1410-e8c8-43d4-8731-e70e1144a859"
      },
      "source": [
        "features3.columns"
      ],
      "execution_count": null,
      "outputs": [
        {
          "output_type": "execute_result",
          "data": {
            "text/plain": [
              "Index(['filename', 'length', 'chroma_stft_mean', 'chroma_stft_var', 'rms_mean',\n",
              "       'rms_var', 'spectral_centroid_mean', 'spectral_centroid_var',\n",
              "       'spectral_bandwidth_mean', 'spectral_bandwidth_var', 'rolloff_mean',\n",
              "       'rolloff_var', 'zero_crossing_rate_mean', 'zero_crossing_rate_var',\n",
              "       'harmony_mean', 'harmony_var', 'perceptr_mean', 'perceptr_var', 'tempo',\n",
              "       'mfcc1_mean', 'mfcc1_var', 'mfcc2_mean', 'mfcc2_var', 'mfcc3_mean',\n",
              "       'mfcc3_var', 'mfcc4_mean', 'mfcc4_var', 'mfcc5_mean', 'mfcc5_var',\n",
              "       'mfcc6_mean', 'mfcc6_var', 'mfcc7_mean', 'mfcc7_var', 'mfcc8_mean',\n",
              "       'mfcc8_var', 'mfcc9_mean', 'mfcc9_var', 'mfcc10_mean', 'mfcc10_var',\n",
              "       'mfcc11_mean', 'mfcc11_var', 'mfcc12_mean', 'mfcc12_var', 'mfcc13_mean',\n",
              "       'mfcc13_var', 'mfcc14_mean', 'mfcc14_var', 'mfcc15_mean', 'mfcc15_var',\n",
              "       'mfcc16_mean', 'mfcc16_var', 'mfcc17_mean', 'mfcc17_var', 'mfcc18_mean',\n",
              "       'mfcc18_var', 'mfcc19_mean', 'mfcc19_var', 'mfcc20_mean', 'mfcc20_var',\n",
              "       'label'],\n",
              "      dtype='object')"
            ]
          },
          "metadata": {
            "tags": []
          },
          "execution_count": 95
        }
      ]
    },
    {
      "cell_type": "code",
      "metadata": {
        "id": "ZEA9x1q9hf5s"
      },
      "source": [
        "labels3 = features3['label']\n",
        "labels30 = features30['label']\n",
        "features3 = features3.drop(['label', 'filename', 'length'],axis=1)\n",
        "features30 = features30.drop(['label', 'filename', 'length'],axis=1)"
      ],
      "execution_count": null,
      "outputs": []
    },
    {
      "cell_type": "code",
      "metadata": {
        "id": "CWT4JK3ViEX6"
      },
      "source": [
        "from sklearn.pipeline import make_pipeline\n",
        "from sklearn.preprocessing import StandardScaler\n",
        "from sklearn.svm import SVC\n",
        "msk = np.random.rand(len(features3)) < 0.8\n",
        "X_train3 = features3[msk]\n",
        "X_test3 = features3[~msk]\n",
        "y_train3 = labels3[msk]\n",
        "y_test3 = labels3[~msk]\n",
        "clf3 = make_pipeline(StandardScaler(), SVC(gamma='auto'))\n",
        "clf3.fit(X_train3, y_train3)\n",
        "y_pred3 = clf3.predict(X_test3)\n",
        "\n",
        "msk = np.random.rand(len(features30)) < 0.8\n",
        "X_train30 = features30[msk]\n",
        "X_test30 = features30[~msk]\n",
        "y_train30 = labels30[msk]\n",
        "y_test30 = labels30[~msk]\n",
        "clf30 = make_pipeline(StandardScaler(), SVC(gamma='auto'))\n",
        "clf30.fit(X_train30, y_train30)\n",
        "y_pred30 = clf30.predict(X_test30)"
      ],
      "execution_count": null,
      "outputs": []
    },
    {
      "cell_type": "code",
      "metadata": {
        "id": "Tf9qy3NHjjWN"
      },
      "source": [
        "class_labels = list(clf3.classes_)"
      ],
      "execution_count": null,
      "outputs": []
    },
    {
      "cell_type": "code",
      "metadata": {
        "colab": {
          "base_uri": "https://localhost:8080/",
          "height": 934
        },
        "id": "p28WZpi-iwin",
        "outputId": "a8828bfc-764b-4e79-d796-f6cf9ad3cd21"
      },
      "source": [
        "cm3 = confusion_matrix(y_test3, y_pred3)\n",
        "plot_confusion_matrix(cm3, class_labels, title='Confusion matrix for SVM with 3-sec features', normalize=False)\n",
        "print()\n",
        "cm30 = confusion_matrix(y_test30, y_pred30)\n",
        "plot_confusion_matrix(cm30, class_labels, title='Confusion matrix for SVM with 30-sec features', normalize=False)"
      ],
      "execution_count": null,
      "outputs": [
        {
          "output_type": "display_data",
          "data": {
            "image/png": "[encoded data removed]",
            "text/plain": [
              "<Figure size 576x432 with 2 Axes>"
            ]
          },
          "metadata": {
            "tags": []
          }
        },
        {
          "output_type": "stream",
          "text": [
            "\n"
          ],
          "name": "stdout"
        },
        {
          "output_type": "display_data",
          "data": {
            "image/png": "[encoded data removed]",
            "text/plain": [
              "<Figure size 576x432 with 2 Axes>"
            ]
          },
          "metadata": {
            "tags": []
          }
        }
      ]
    },
    {
      "cell_type": "code",
      "metadata": {
        "colab": {
          "base_uri": "https://localhost:8080/"
        },
        "id": "EEGgzGgGI9TU",
        "outputId": "7c0afb13-694a-4850-9d59-2879a7090f08"
      },
      "source": [
        "print('SVM 30-sec F1 score: (Micro)')\n",
        "f1_score(y_test30, y_pred30, average='micro')"
      ],
      "execution_count": null,
      "outputs": [
        {
          "output_type": "stream",
          "text": [
            "SVM 30-sec F1 score: (Micro)\n"
          ],
          "name": "stdout"
        },
        {
          "output_type": "execute_result",
          "data": {
            "text/plain": [
              "0.6854460093896714"
            ]
          },
          "metadata": {
            "tags": []
          },
          "execution_count": 156
        }
      ]
    },
    {
      "cell_type": "code",
      "metadata": {
        "colab": {
          "base_uri": "https://localhost:8080/"
        },
        "id": "a3SSMlKCI7Z2",
        "outputId": "47db1722-5c46-438e-fa79-7df368a2ead9"
      },
      "source": [
        "print('SVM 3-sec F1 score: (Micro)')\n",
        "f1_score(y_test3, y_pred3, average='micro')"
      ],
      "execution_count": null,
      "outputs": [
        {
          "output_type": "stream",
          "text": [
            "SVM 3-sec F1 score: (Micro)\n"
          ],
          "name": "stdout"
        },
        {
          "output_type": "execute_result",
          "data": {
            "text/plain": [
              "0.866600790513834"
            ]
          },
          "metadata": {
            "tags": []
          },
          "execution_count": 157
        }
      ]
    },
    {
      "cell_type": "markdown",
      "metadata": {
        "id": "y0-CXqJ1Z3bF"
      },
      "source": [
        "# Francesco"
      ]
    },
    {
      "cell_type": "code",
      "metadata": {
        "id": "N1wVmr8rskyj"
      },
      "source": [
        "def split_indices(n, val_pct, seed):\n",
        "  #Val set size\n",
        "  n_val = int(val_pct*n)\n",
        "  #set random seed\n",
        "  np.random.seed(seed)\n",
        "  #Create random perm\n",
        "  idxs = np.random.permutation(n)\n",
        "  return idxs[n_val:], idxs[:n_val]"
      ],
      "execution_count": null,
      "outputs": []
    },
    {
      "cell_type": "code",
      "metadata": {
        "colab": {
          "base_uri": "https://localhost:8080/",
          "height": 221
        },
        "id": "xeOP-m1F1eSe",
        "outputId": "dce0c5ae-2c88-4fa1-95fa-f65338ed150e"
      },
      "source": [
        "val_pct = 0.2\n",
        "rand_seed = 42\n",
        "train_indices, val_indices = split_indices(len(dataset),val_pct,rand_seed)\n",
        "print(len(train_indices),len(val_indices))\n"
      ],
      "execution_count": null,
      "outputs": [
        {
          "output_type": "error",
          "ename": "NameError",
          "evalue": "ignored",
          "traceback": [
            "\u001b[0;31m---------------------------------------------------------------------------\u001b[0m",
            "\u001b[0;31mNameError\u001b[0m                                 Traceback (most recent call last)",
            "\u001b[0;32m<ipython-input-2-d03b57f49c78>\u001b[0m in \u001b[0;36m<module>\u001b[0;34m()\u001b[0m\n\u001b[1;32m      1\u001b[0m \u001b[0mval_pct\u001b[0m \u001b[0;34m=\u001b[0m \u001b[0;36m0.2\u001b[0m\u001b[0;34m\u001b[0m\u001b[0;34m\u001b[0m\u001b[0m\n\u001b[1;32m      2\u001b[0m \u001b[0mrand_seed\u001b[0m \u001b[0;34m=\u001b[0m \u001b[0;36m42\u001b[0m\u001b[0;34m\u001b[0m\u001b[0;34m\u001b[0m\u001b[0m\n\u001b[0;32m----> 3\u001b[0;31m \u001b[0mtrain_indices\u001b[0m\u001b[0;34m,\u001b[0m \u001b[0mval_indices\u001b[0m \u001b[0;34m=\u001b[0m \u001b[0msplit_indices\u001b[0m\u001b[0;34m(\u001b[0m\u001b[0mlen\u001b[0m\u001b[0;34m(\u001b[0m\u001b[0mdataset\u001b[0m\u001b[0;34m)\u001b[0m\u001b[0;34m,\u001b[0m\u001b[0mval_pct\u001b[0m\u001b[0;34m,\u001b[0m\u001b[0mrand_seed\u001b[0m\u001b[0;34m)\u001b[0m\u001b[0;34m\u001b[0m\u001b[0;34m\u001b[0m\u001b[0m\n\u001b[0m\u001b[1;32m      4\u001b[0m \u001b[0mprint\u001b[0m\u001b[0;34m(\u001b[0m\u001b[0mlen\u001b[0m\u001b[0;34m(\u001b[0m\u001b[0mtrain_indices\u001b[0m\u001b[0;34m)\u001b[0m\u001b[0;34m,\u001b[0m\u001b[0mlen\u001b[0m\u001b[0;34m(\u001b[0m\u001b[0mval_indices\u001b[0m\u001b[0;34m)\u001b[0m\u001b[0;34m)\u001b[0m\u001b[0;34m\u001b[0m\u001b[0;34m\u001b[0m\u001b[0m\n",
            "\u001b[0;31mNameError\u001b[0m: name 'dataset' is not defined"
          ]
        }
      ]
    },
    {
      "cell_type": "code",
      "metadata": {
        "id": "iqZDCqn-131u"
      },
      "source": [
        "from torch.utils.data.sampler import SubsetRandomSampler\n",
        "from torch.utils.data.dataloader import DataLoader\n",
        "batch_size = 16\n"
      ],
      "execution_count": null,
      "outputs": []
    },
    {
      "cell_type": "code",
      "metadata": {
        "id": "OP5Db28T2Drr"
      },
      "source": [
        "train_sampler =SubsetRandomSampler(train_indices)\n",
        "train_dl = DataLoader(dataset,batch_size,sampler=train_sampler)"
      ],
      "execution_count": null,
      "outputs": []
    },
    {
      "cell_type": "code",
      "metadata": {
        "id": "rTQxCFMz2R1d"
      },
      "source": [
        "valid_sampler =SubsetRandomSampler(val_indices)\n",
        "valid_dl = DataLoader(dataset,batch_size,sampler=valid_sampler)"
      ],
      "execution_count": null,
      "outputs": []
    },
    {
      "cell_type": "code",
      "metadata": {
        "id": "EWUDV69w27eg"
      },
      "source": [
        "import torch.nn as nn\n",
        "import torch.nn.functional as F"
      ],
      "execution_count": null,
      "outputs": []
    },
    {
      "cell_type": "code",
      "metadata": {
        "id": "V8itD8hP4x2W"
      },
      "source": [
        "for images, labels in train_dl:\n",
        "  print('images.shape:',images.shape) #from image\n",
        "  \n",
        "  \n",
        "  break"
      ],
      "execution_count": null,
      "outputs": []
    },
    {
      "cell_type": "code",
      "metadata": {
        "id": "ICmAyYI2BZU5"
      },
      "source": [
        "from torchsummary import summary\n",
        "#model=CRNN()\n",
        "#summary(model.cnn,(3, 288, 432),batch_size=16)"
      ],
      "execution_count": null,
      "outputs": []
    },
    {
      "cell_type": "code",
      "metadata": {
        "id": "ZDf1aCRY-TkG"
      },
      "source": [
        ""
      ],
      "execution_count": null,
      "outputs": []
    },
    {
      "cell_type": "code",
      "metadata": {
        "id": "duyKnoVl3C6z"
      },
      "source": [
        "class CRNN(nn.Module):\n",
        "    def __init__(self):\n",
        "        super(CRNN,self).__init__()\n",
        "\n",
        "        self.cnn = nn.Sequential(\n",
        "            nn.BatchNorm2d(num_features=3),\n",
        "\n",
        "            nn.Conv2d(3,64,kernel_size=3, padding=1,stride=1),\n",
        "            nn.ELU(),\n",
        "            nn.BatchNorm2d(64),\n",
        "            nn.MaxPool2d(kernel_size=2),\n",
        "            nn.Dropout2d(0.1),\n",
        "\n",
        "            nn.Conv2d(64,128,kernel_size=3, padding=1,stride=1),\n",
        "            nn.ELU(),\n",
        "            nn.BatchNorm2d(128),\n",
        "            nn.MaxPool2d(kernel_size=(4,2)),\n",
        "            nn.Dropout2d(0.1),\n",
        "\n",
        "            nn.Conv2d(128,128,kernel_size=3, padding=1,stride=1),\n",
        "            nn.ELU(),\n",
        "            nn.BatchNorm2d(128),\n",
        "            nn.MaxPool2d(kernel_size=(4,2)),\n",
        "            nn.Dropout2d(0.1),\n",
        "\n",
        "            nn.Conv2d(128,128,kernel_size=3, padding=1,stride=1),\n",
        "            nn.ELU(),\n",
        "            nn.BatchNorm2d(128),\n",
        "            nn.MaxPool2d(kernel_size=(4,2)),\n",
        "            nn.Dropout2d(0.1),\n",
        "            \n",
        "        )\n",
        "\n",
        "        self.rnn = nn.Sequential(\n",
        "            nn.GRU(input_size=6912,hidden_size=32,num_layers=2),\n",
        "            nn.Dropout2d(0.3),\n",
        "            nn.Flatten()\n",
        "        )\n",
        "        self.classifier = nn.Sequential(\n",
        "            \n",
        "            nn.Linear(in_features=32,out_features=10),\n",
        "            nn.Softmax2d()\n",
        "        )\n",
        "\n",
        "        return\n",
        "        \n",
        "\n",
        "    def forward(self, data):\n",
        "\n",
        "        cnn_output     = self.cnn(data)\n",
        "        print(cnn_output.size())\n",
        "        #cnn_output     = cnn_output.squeeze(2)\n",
        "        #print(cnn_output.size())\n",
        "        #permute_output = cnn_output.permute(1,0,2)\n",
        "        rnn_output     = self.rnn(cnn_output)\n",
        "        print(rnn_output.size())\n",
        "        output         = self.classifier(rnn_output)\n",
        "        return output\n",
        "\n",
        "    \n",
        "\n",
        "\n",
        "    \n",
        "    \n",
        "\n",
        "\n",
        "\n",
        "\n",
        "\n",
        "\n",
        "\n",
        "\n",
        "\n"
      ],
      "execution_count": null,
      "outputs": []
    },
    {
      "cell_type": "markdown",
      "metadata": {
        "id": "SmtU9GQxyNoz"
      },
      "source": [
        "# Confusion Mat"
      ]
    },
    {
      "cell_type": "code",
      "metadata": {
        "id": "jhVe-hQtyY1N"
      },
      "source": [
        "#WHERE TO COMPUTE IT? (ONLY TEST SET)\n",
        "\n",
        "#FIRST OPTION \n",
        "#def model_accuracy(model, n_classes, loader):\n",
        "    #[...] nothing changes here\n",
        "    #return accuracy, class_accs, output\n",
        "\n",
        "#train_acc, train_class_accs, _ = model_accuracy(model, n_classes, train_loader)\n",
        "#test_acc, test_class_accs, test_output = model_accuracy(model,n_classes, test_loader)\n",
        "#print('Train Set Accuracy: {}%'.format(train_acc))\n",
        "#print('Test Set Accuracy: {}%'.format(test_acc))\n",
        "#confusion_matrix(test_loader, output)\n",
        "\n",
        "#SECOND OPTION: \n",
        "#def model_accuracy(model, n_classes, loader, cm):\n",
        "    #[...] nothing changes here\n",
        "    #if cm == True : confusion_matrix(loader, outputs)\n",
        "    #return accuracy, class_accs\n",
        "  \n",
        "#train_acc, train_class_accs, _ = model_accuracy(model, n_classes, train_loader, False)\n",
        "#test_acc, test_class_accs, test_output = model_accuracy(model,n_classes, test_loader, True)\n",
        "#print('Train Set Accuracy: {}%'.format(train_acc))\n",
        "#print('Test Set Accuracy: {}%'.format(test_acc))\n",
        " \n",
        "\n",
        "def confusion_matrix(loader, outputs):\n",
        "        _, predicted = torch.max(outputs.data, 1)\n",
        "        images, labels = next(iter(loader)) #since only one batch for the test set\n",
        "  \n",
        "        stacked= torch.stack(\n",
        "            (\n",
        "                labels, \n",
        "                predicted \n",
        "            ),\n",
        "            dim=1\n",
        "        ) #returns a stack in the form [label, prediction]\n",
        "\n",
        "        cmt = torch.zeros(10, 10, dtype=torch.int32) \n",
        "\n",
        "        for p in stacked:\n",
        "            true, predicted = p.tolist() \n",
        "            cmt[true, predicted]= cmt[true, predicted]+1\n",
        "        \n",
        "        print(cmt)\n",
        "        #check for a better plotting function \n"
      ],
      "execution_count": null,
      "outputs": []
    }
  ]
}